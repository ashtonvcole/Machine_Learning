{
 "cells": [
  {
   "cell_type": "markdown",
   "id": "610e4293-ce10-4f70-ae3b-596c967381da",
   "metadata": {},
   "source": [
    "# Project 2, Part 1\n",
    "\n",
    "Ashton Cole\n",
    "\n",
    "AVC687\n",
    "\n",
    "COE 379L: Software Design for Responsive Intelligent Systems\n",
    "\n",
    "## Description\n",
    "\n",
    "We are interested in using a breast cancer patient dataset to build a model which predicts relapsing based on personal and tumor characteristics."
   ]
  },
  {
   "cell_type": "code",
   "execution_count": 1,
   "id": "259aeb8f-d1ba-4238-b47a-6f0f48b6c0da",
   "metadata": {},
   "outputs": [],
   "source": [
    "import pandas as pd\n",
    "import seaborn as sns"
   ]
  },
  {
   "cell_type": "code",
   "execution_count": 2,
   "id": "19d3d223-2732-4636-a4e3-cb03e871222d",
   "metadata": {},
   "outputs": [],
   "source": [
    "bc = pd.read_csv('bc.csv')"
   ]
  },
  {
   "cell_type": "markdown",
   "id": "de317cbb-b8d1-40a0-a6d5-79d515ff2406",
   "metadata": {},
   "source": [
    "## Exporation"
   ]
  },
  {
   "cell_type": "code",
   "execution_count": 3,
   "id": "d438f8b9-4805-4aa0-bb38-44a20d4cda78",
   "metadata": {},
   "outputs": [
    {
     "data": {
      "text/plain": [
       "(286, 10)"
      ]
     },
     "execution_count": 3,
     "metadata": {},
     "output_type": "execute_result"
    }
   ],
   "source": [
    "bc.shape"
   ]
  },
  {
   "cell_type": "code",
   "execution_count": 4,
   "id": "507b7fcb-faf9-4e4d-aa9f-63427b924d86",
   "metadata": {},
   "outputs": [
    {
     "name": "stdout",
     "output_type": "stream",
     "text": [
      "<class 'pandas.core.frame.DataFrame'>\n",
      "RangeIndex: 286 entries, 0 to 285\n",
      "Data columns (total 10 columns):\n",
      " #   Column       Non-Null Count  Dtype \n",
      "---  ------       --------------  ----- \n",
      " 0   class        286 non-null    object\n",
      " 1   age          286 non-null    object\n",
      " 2   menopause    286 non-null    object\n",
      " 3   tumor-size   286 non-null    object\n",
      " 4   inv-nodes    286 non-null    object\n",
      " 5   node-caps    286 non-null    object\n",
      " 6   deg-malig    286 non-null    int64 \n",
      " 7   breast       286 non-null    object\n",
      " 8   breast-quad  286 non-null    object\n",
      " 9   irradiat     286 non-null    object\n",
      "dtypes: int64(1), object(9)\n",
      "memory usage: 22.5+ KB\n"
     ]
    }
   ],
   "source": [
    "bc.info()"
   ]
  },
  {
   "cell_type": "markdown",
   "id": "eddb3b86-d922-42db-b629-07a291f0f30e",
   "metadata": {},
   "source": [
    "Here, we see that there are 10 columns of 286 records. Although there do not seem to be any null entries upon initial inspection, they could be represented with a non-null value."
   ]
  },
  {
   "cell_type": "markdown",
   "id": "c2d1bc3c-4f09-46b3-ae91-345b21b918b4",
   "metadata": {},
   "source": [
    "## Column Inspections\n",
    "\n",
    "Here we want to inspect the columns, fix null entries, convert their data type appropriately, and drop if the column is irrelevant for analysis. Null entries will ideally be replaced with the median of the field."
   ]
  },
  {
   "cell_type": "markdown",
   "id": "057edad6-9476-444b-9f50-59199c2df140",
   "metadata": {},
   "source": [
    "### Class"
   ]
  },
  {
   "cell_type": "code",
   "execution_count": 5,
   "id": "25d60a8a-8717-44dc-912a-73ed86681b63",
   "metadata": {},
   "outputs": [
    {
     "data": {
      "text/plain": [
       "array(['no-recurrence-events', 'recurrence-events'], dtype=object)"
      ]
     },
     "execution_count": 5,
     "metadata": {},
     "output_type": "execute_result"
    }
   ],
   "source": [
    "bc['class'].unique()"
   ]
  },
  {
   "cell_type": "markdown",
   "id": "8da9f430-3e0e-4a54-bcef-7bbedf6b2723",
   "metadata": {},
   "source": [
    "Class essentially refers to whether or not there is a relapse. It is a binary category, making one-hot encoding, i.e. a boolean, appropriate. The conversion from categorical to one-hot encoding will be done in one command at the end."
   ]
  },
  {
   "cell_type": "code",
   "execution_count": 6,
   "id": "1a81b224-8655-4113-9d6b-eed32471b42b",
   "metadata": {},
   "outputs": [
    {
     "data": {
      "text/plain": [
       "0      no-recurrence-events\n",
       "1      no-recurrence-events\n",
       "2      no-recurrence-events\n",
       "3      no-recurrence-events\n",
       "4      no-recurrence-events\n",
       "               ...         \n",
       "281       recurrence-events\n",
       "282       recurrence-events\n",
       "283       recurrence-events\n",
       "284       recurrence-events\n",
       "285       recurrence-events\n",
       "Name: class, Length: 286, dtype: category\n",
       "Categories (2, object): ['no-recurrence-events', 'recurrence-events']"
      ]
     },
     "execution_count": 6,
     "metadata": {},
     "output_type": "execute_result"
    }
   ],
   "source": [
    "bc['class'] = bc['class'].astype('category')\n",
    "bc['class']"
   ]
  },
  {
   "cell_type": "markdown",
   "id": "9a2316fc-dc98-42db-b2a0-f8d624105dfc",
   "metadata": {},
   "source": [
    "### Age"
   ]
  },
  {
   "cell_type": "code",
   "execution_count": 7,
   "id": "34a56731-be53-4317-9dcd-4d816174bbb4",
   "metadata": {},
   "outputs": [
    {
     "data": {
      "text/plain": [
       "array(['30-39', '40-49', '60-69', '50-59', '70-79', '20-29'], dtype=object)"
      ]
     },
     "execution_count": 7,
     "metadata": {},
     "output_type": "execute_result"
    }
   ],
   "source": [
    "bc['age'].unique()"
   ]
  },
  {
   "cell_type": "markdown",
   "id": "5bee4d61-c4a7-44f6-97b1-4e51c10bcd7f",
   "metadata": {},
   "source": [
    "Interestingly, age is not stored as an integer, but as a set of ranges. This means that on one hand, it could be represented categorically. On the other hand, ordinality could be retained by representing the age as the average of each range. For example, all in the range 20-29 could be approximated as 25 years old. Neither solution is perfect. One-hot encoding for this kind of data significantly increases the number of columns and loses ordinality and \"distance,\" while averaging is still not very well-representative either. The second option will be tested for now, and possibly reneged based on the model's performance."
   ]
  },
  {
   "cell_type": "code",
   "execution_count": 8,
   "id": "5e719922-0939-482a-8c22-daca25298aaa",
   "metadata": {},
   "outputs": [
    {
     "data": {
      "text/plain": [
       "array([35, 45, 65, 55, 75, 25])"
      ]
     },
     "execution_count": 8,
     "metadata": {},
     "output_type": "execute_result"
    }
   ],
   "source": [
    "bc['age'] = bc['age'].replace({'20-29': 25,\n",
    "                               '30-39': 35,\n",
    "                               '40-49': 45,\n",
    "                               '50-59': 55,\n",
    "                               '60-69': 65,\n",
    "                               '70-79': 75}).astype(int)\n",
    "bc['age'].unique()"
   ]
  },
  {
   "cell_type": "markdown",
   "id": "4c1c6068-a7a7-476c-ae8f-e42bf2e95c9e",
   "metadata": {},
   "source": [
    "### Menopause"
   ]
  },
  {
   "cell_type": "code",
   "execution_count": 9,
   "id": "e3504193-d739-49fe-bf0a-5f424c968575",
   "metadata": {},
   "outputs": [
    {
     "data": {
      "text/plain": [
       "array(['premeno', 'ge40', 'lt40'], dtype=object)"
      ]
     },
     "execution_count": 9,
     "metadata": {},
     "output_type": "execute_result"
    }
   ],
   "source": [
    "bc['menopause'].unique()"
   ]
  },
  {
   "cell_type": "markdown",
   "id": "392be9f1-0a08-43fe-b200-2e2ae04e6147",
   "metadata": {},
   "source": [
    "Someone can either be premenopausal, \"ge40,\" or \"lt40.\" It is not entirely clear, but the latter two could be abbreviations of \"greater than or equal to 40\" and \"less than 40.\" This in turn could mean the age of onset of menopause, or just the age of the patient. If it were the latter, this distinction would be redundant, so the variable is compared against age."
   ]
  },
  {
   "cell_type": "code",
   "execution_count": 10,
   "id": "20531c2f-d1ea-4270-944a-8955c049eddc",
   "metadata": {},
   "outputs": [
    {
     "data": {
      "text/plain": [
       "array([65, 55, 35])"
      ]
     },
     "execution_count": 10,
     "metadata": {},
     "output_type": "execute_result"
    }
   ],
   "source": [
    "bc[bc['menopause'] == 'lt40']['age'].unique()"
   ]
  },
  {
   "cell_type": "markdown",
   "id": "23ea645b-7afe-4ad4-8fd2-92de84b32136",
   "metadata": {},
   "source": [
    "Some people in the \"lt40\" category are older than 40, so this distinction should be kept, regardless of its precise meaning."
   ]
  },
  {
   "cell_type": "code",
   "execution_count": 11,
   "id": "51d93cbb-e4b2-400e-98f1-c0e8a127d4f1",
   "metadata": {},
   "outputs": [],
   "source": [
    "bc['menopause'] = bc['menopause'].astype('category')"
   ]
  },
  {
   "cell_type": "markdown",
   "id": "f4828c57-fe1f-4028-ada8-081a0123d195",
   "metadata": {},
   "source": [
    "### Tumor Size"
   ]
  },
  {
   "cell_type": "code",
   "execution_count": 12,
   "id": "4d03d5f4-ec18-465f-846f-85d668098ca7",
   "metadata": {},
   "outputs": [
    {
     "data": {
      "text/plain": [
       "array(['30-34', '20-24', '15-19', '0-4', '25-29', '50-54', '10-14',\n",
       "       '40-44', '35-39', '5-9', '45-49'], dtype=object)"
      ]
     },
     "execution_count": 12,
     "metadata": {},
     "output_type": "execute_result"
    }
   ],
   "source": [
    "bc['tumor-size'].unique()"
   ]
  },
  {
   "cell_type": "markdown",
   "id": "8a4c82b2-f95a-48f5-bcf0-e2d2c2840881",
   "metadata": {},
   "source": [
    "The same reasoning is used as that for age."
   ]
  },
  {
   "cell_type": "code",
   "execution_count": 13,
   "id": "94f9bf61-063b-4756-a8ec-fd29e10ca31e",
   "metadata": {},
   "outputs": [
    {
     "data": {
      "text/plain": [
       "array([32., 22., 17.,  2., 27., 52., 12., 42., 37.,  7., 47.])"
      ]
     },
     "execution_count": 13,
     "metadata": {},
     "output_type": "execute_result"
    }
   ],
   "source": [
    "bc['tumor-size'] = bc['tumor-size'].replace({'0-4': 2,\n",
    "                                             '5-9': 7,\n",
    "                                             '10-14': 12,\n",
    "                                             '15-19': 17,\n",
    "                                             '20-24': 22,\n",
    "                                             '25-29': 27,\n",
    "                                             '30-34': 32,\n",
    "                                             '35-39': 37,\n",
    "                                             '40-44': 42,\n",
    "                                             '45-49': 47,\n",
    "                                             '50-54': 52}).astype(float)\n",
    "bc['tumor-size'].unique()"
   ]
  },
  {
   "cell_type": "markdown",
   "id": "73a80be9-4f85-47a7-8d5c-042af8b1ae45",
   "metadata": {},
   "source": [
    "### Inv Nodes"
   ]
  },
  {
   "cell_type": "code",
   "execution_count": 14,
   "id": "1fd6aabd-4950-4835-936d-cefc53e29b0b",
   "metadata": {},
   "outputs": [
    {
     "data": {
      "text/plain": [
       "array(['0-2', '6-8', '9-11', '3-5', '15-17', '12-14', '24-26'],\n",
       "      dtype=object)"
      ]
     },
     "execution_count": 14,
     "metadata": {},
     "output_type": "execute_result"
    }
   ],
   "source": [
    "bc['inv-nodes'].unique()"
   ]
  },
  {
   "cell_type": "markdown",
   "id": "ca99d531-9df2-4cce-b8db-1c878ac3e321",
   "metadata": {},
   "source": [
    "The same reasoning is used as that for age."
   ]
  },
  {
   "cell_type": "code",
   "execution_count": 15,
   "id": "dd07181e-2290-491c-b0bc-f802b9dbd270",
   "metadata": {},
   "outputs": [
    {
     "data": {
      "text/plain": [
       "array([ 1,  7, 10,  4, 16, 13, 25])"
      ]
     },
     "execution_count": 15,
     "metadata": {},
     "output_type": "execute_result"
    }
   ],
   "source": [
    "bc['inv-nodes'] = bc['inv-nodes'].replace({'0-2': 1,\n",
    "                                           '3-5': 4,\n",
    "                                           '6-8': 7,\n",
    "                                           '9-11': 10,\n",
    "                                           '12-14': 13,\n",
    "                                           '15-17': 16,\n",
    "                                           '18-20': 19,\n",
    "                                           '21-23': 22,\n",
    "                                           '24-26': 25})\n",
    "bc['inv-nodes'].unique()"
   ]
  },
  {
   "cell_type": "markdown",
   "id": "fdc590e7-0b86-4682-a1e0-30b85a05d64d",
   "metadata": {},
   "source": [
    "### Node Caps"
   ]
  },
  {
   "cell_type": "code",
   "execution_count": 16,
   "id": "55b15849-a972-4527-bd19-be298ef4cc33",
   "metadata": {},
   "outputs": [
    {
     "data": {
      "text/plain": [
       "array(['no', 'yes', '?'], dtype=object)"
      ]
     },
     "execution_count": 16,
     "metadata": {},
     "output_type": "execute_result"
    }
   ],
   "source": [
    "bc['node-caps'].unique()"
   ]
  },
  {
   "cell_type": "markdown",
   "id": "90a609c8-0716-47fa-9b0c-95621422dd1a",
   "metadata": {},
   "source": [
    "Here we find a \"?\" marking null values in a boolean category. There either are or are not node caps. This means that either these entries need to be removed, the column needs to be excluded from analysis, or the category is instead a trinary. Let's inspect how many null entries there are first."
   ]
  },
  {
   "cell_type": "code",
   "execution_count": 17,
   "id": "d7c6339f-c1f5-42eb-8b48-72690db7437c",
   "metadata": {},
   "outputs": [
    {
     "data": {
      "text/plain": [
       "8"
      ]
     },
     "execution_count": 17,
     "metadata": {},
     "output_type": "execute_result"
    }
   ],
   "source": [
    "len(bc[bc['node-caps'] == '?'])"
   ]
  },
  {
   "cell_type": "markdown",
   "id": "7fe47611-4841-4037-979e-cfef4d46dd47",
   "metadata": {},
   "source": [
    "Since there are only 8 \"?,\" it makes most sense to just remove these values. They arent enough to justify their own category, nor removing the whole column. It is best to just shave off the data set by a few rows."
   ]
  },
  {
   "cell_type": "code",
   "execution_count": 18,
   "id": "ab75ce0f-e8d8-47c0-a941-879ead44cea3",
   "metadata": {},
   "outputs": [
    {
     "data": {
      "text/plain": [
       "['no', 'yes']\n",
       "Categories (2, object): ['no', 'yes']"
      ]
     },
     "execution_count": 18,
     "metadata": {},
     "output_type": "execute_result"
    }
   ],
   "source": [
    "bc = bc[bc['node-caps'] != '?']\n",
    "bc['node-caps'] = bc['node-caps'].astype('category')\n",
    "bc['node-caps'].unique()"
   ]
  },
  {
   "cell_type": "markdown",
   "id": "12dfd433-fb01-4164-99aa-9d825ec2fac9",
   "metadata": {},
   "source": [
    "### Deg Malig"
   ]
  },
  {
   "cell_type": "code",
   "execution_count": 19,
   "id": "487fb649-cb73-49ad-8838-41658d09844f",
   "metadata": {},
   "outputs": [
    {
     "data": {
      "text/plain": [
       "array([3, 2, 1])"
      ]
     },
     "execution_count": 19,
     "metadata": {},
     "output_type": "execute_result"
    }
   ],
   "source": [
    "bc['deg-malig'].unique()"
   ]
  },
  {
   "cell_type": "markdown",
   "id": "95c26921-fce6-4589-85c7-9477e1c46043",
   "metadata": {},
   "source": [
    "This field likely refers to the degree of malignancy of the tumor. Although this is numeric and ordinal, the number represents *qualitative* scale. It does not encode the same sort of \"distance\" as age, tumor size, or the number of nodes. Thus, this is converted to a category as well."
   ]
  },
  {
   "cell_type": "code",
   "execution_count": 20,
   "id": "9e439e7b-8cfb-4a87-b598-5c9ed4ab7d75",
   "metadata": {},
   "outputs": [],
   "source": [
    "bc['deg-malig'] = bc['deg-malig'].astype('category')"
   ]
  },
  {
   "cell_type": "markdown",
   "id": "484f6bd0-99c9-47da-9440-3f8531c264a5",
   "metadata": {},
   "source": [
    "### Breast"
   ]
  },
  {
   "cell_type": "code",
   "execution_count": 21,
   "id": "f47f0dbe-6537-4c4e-af9d-045c43ffb843",
   "metadata": {},
   "outputs": [
    {
     "data": {
      "text/plain": [
       "array(['left', 'right'], dtype=object)"
      ]
     },
     "execution_count": 21,
     "metadata": {},
     "output_type": "execute_result"
    }
   ],
   "source": [
    "bc['breast'].unique()"
   ]
  },
  {
   "cell_type": "markdown",
   "id": "fd415e4f-f0b0-48d5-9244-507427e8a2b1",
   "metadata": {},
   "source": [
    "This likely refers to which breast has the tumor. It is a binary category."
   ]
  },
  {
   "cell_type": "code",
   "execution_count": 22,
   "id": "9012225a-8750-4e08-8ec1-af4988b9f68c",
   "metadata": {},
   "outputs": [],
   "source": [
    "bc['breast'] = bc['breast'].astype('category')"
   ]
  },
  {
   "cell_type": "markdown",
   "id": "ff5d987b-3c8e-4095-8442-a9da5bedd7ca",
   "metadata": {},
   "source": [
    "### Breast Quad"
   ]
  },
  {
   "cell_type": "code",
   "execution_count": 23,
   "id": "dcbea1ae-1e15-4f74-8667-1f08cc9c5333",
   "metadata": {},
   "outputs": [
    {
     "data": {
      "text/plain": [
       "array(['left_low', 'right_up', 'left_up', 'right_low', 'central', '?'],\n",
       "      dtype=object)"
      ]
     },
     "execution_count": 23,
     "metadata": {},
     "output_type": "execute_result"
    }
   ],
   "source": [
    "bc['breast-quad'].unique()"
   ]
  },
  {
   "cell_type": "markdown",
   "id": "e670ebbc-20f6-47b0-9fbf-2c553462cf98",
   "metadata": {},
   "source": [
    "This likely refers to the region of the breast where the tumor occurs. It is a categorical variable, but again we have to contend with unknown entries."
   ]
  },
  {
   "cell_type": "code",
   "execution_count": 24,
   "id": "924d0ed9-be68-43fd-925f-5011c2d56afc",
   "metadata": {},
   "outputs": [
    {
     "data": {
      "text/plain": [
       "1"
      ]
     },
     "execution_count": 24,
     "metadata": {},
     "output_type": "execute_result"
    }
   ],
   "source": [
    "len(bc[bc['breast-quad'] == '?'])"
   ]
  },
  {
   "cell_type": "markdown",
   "id": "5e580a42-cb21-4ea5-9522-fa219551d495",
   "metadata": {},
   "source": [
    "Since there is only one unknown entry, this can be safely excluded from our model without much harm."
   ]
  },
  {
   "cell_type": "code",
   "execution_count": 25,
   "id": "5a97bf7a-f9ad-4345-b9c2-dc6337f51346",
   "metadata": {},
   "outputs": [
    {
     "data": {
      "text/plain": [
       "['left_low', 'right_up', 'left_up', 'right_low', 'central']\n",
       "Categories (5, object): ['central', 'left_low', 'left_up', 'right_low', 'right_up']"
      ]
     },
     "execution_count": 25,
     "metadata": {},
     "output_type": "execute_result"
    }
   ],
   "source": [
    "bc = bc[bc['breast-quad'] != '?']\n",
    "bc['breast-quad'] = bc['breast-quad'].astype('category')\n",
    "bc['breast-quad'].unique()"
   ]
  },
  {
   "cell_type": "markdown",
   "id": "b8111596-f5f8-46dc-9b48-6a627372c3b4",
   "metadata": {},
   "source": [
    "### Irradiat"
   ]
  },
  {
   "cell_type": "code",
   "execution_count": 26,
   "id": "7e9e37d2-eb3c-429f-8b43-c91f1de9ad7c",
   "metadata": {},
   "outputs": [
    {
     "data": {
      "text/plain": [
       "array(['no', 'yes'], dtype=object)"
      ]
     },
     "execution_count": 26,
     "metadata": {},
     "output_type": "execute_result"
    }
   ],
   "source": [
    "bc['irradiat'].unique()"
   ]
  },
  {
   "cell_type": "markdown",
   "id": "d4669426-df8c-4111-b589-ea53f55138f1",
   "metadata": {},
   "source": [
    "This likely refers to whether radiation therapy was performed. It is a binary category."
   ]
  },
  {
   "cell_type": "code",
   "execution_count": 27,
   "id": "9de2aee4-fba2-43f6-8fc7-b0c243b2e472",
   "metadata": {},
   "outputs": [],
   "source": [
    "bc['irradiat'] = bc['irradiat'].astype('category')"
   ]
  },
  {
   "cell_type": "markdown",
   "id": "7ec5dfaa-801f-4137-af1e-93e90b262816",
   "metadata": {},
   "source": [
    "## Univariate Analysis\n",
    "\n",
    "The distributions of each variable are now studied."
   ]
  },
  {
   "cell_type": "markdown",
   "id": "e6f0f06d-0e6c-4a2b-b682-9bf953fbb438",
   "metadata": {},
   "source": [
    "### Class\n",
    "\n",
    "Thankfully, full remission is more common than not, but there are enough recurrence events in the data set to gain insights."
   ]
  },
  {
   "cell_type": "code",
   "execution_count": 28,
   "id": "c554a2d3-2112-4494-9e5a-c81ae60a3bde",
   "metadata": {},
   "outputs": [
    {
     "name": "stderr",
     "output_type": "stream",
     "text": [
      "/usr/local/lib/python3.11/site-packages/seaborn/categorical.py:641: FutureWarning: The default of observed=False is deprecated and will be changed to True in a future version of pandas. Pass observed=False to retain current behavior or observed=True to adopt the future default and silence this warning.\n",
      "  grouped_vals = vals.groupby(grouper)\n"
     ]
    },
    {
     "data": {
      "text/plain": [
       "<Axes: xlabel='class', ylabel='count'>"
      ]
     },
     "execution_count": 28,
     "metadata": {},
     "output_type": "execute_result"
    },
    {
     "data": {
      "image/png": "[encoded data removed]",
      "text/plain": [
       "<Figure size 640x480 with 1 Axes>"
      ]
     },
     "metadata": {},
     "output_type": "display_data"
    }
   ],
   "source": [
    "sns.countplot(x=bc['class'])"
   ]
  },
  {
   "cell_type": "markdown",
   "id": "b82b5a91-4a41-44fd-9b84-71ae281f9461",
   "metadata": {},
   "source": [
    "### Age\n",
    "\n",
    "Ages show a normal-like distribution, averaged around 50."
   ]
  },
  {
   "cell_type": "code",
   "execution_count": 29,
   "id": "5ae9cd53-068d-4039-9d31-4d8724a881fb",
   "metadata": {},
   "outputs": [
    {
     "name": "stderr",
     "output_type": "stream",
     "text": [
      "/usr/local/lib/python3.11/site-packages/seaborn/_oldcore.py:1119: FutureWarning: use_inf_as_na option is deprecated and will be removed in a future version. Convert inf values to NaN before operating instead.\n",
      "  with pd.option_context('mode.use_inf_as_na', True):\n"
     ]
    },
    {
     "data": {
      "text/plain": [
       "<Axes: xlabel='age', ylabel='Count'>"
      ]
     },
     "execution_count": 29,
     "metadata": {},
     "output_type": "execute_result"
    },
    {
     "data": {
      "image/png": "[encoded data removed]",
      "text/plain": [
       "<Figure size 640x480 with 1 Axes>"
      ]
     },
     "metadata": {},
     "output_type": "display_data"
    }
   ],
   "source": [
    "sns.histplot(data=bc['age'], bins=[20, 30, 40, 50, 60, 70, 80])"
   ]
  },
  {
   "cell_type": "markdown",
   "id": "c89f8731-7a7d-4d60-b4ee-7db0126a3975",
   "metadata": {},
   "source": [
    "### Menopause\n",
    "\n",
    "The \"lt40\" category is significantly smaller than the other two. It could just be quite rare, which lends credence that it refers to menopause happening before age 40. The problem is that this leaves the model dependent on only a handful of cases for this category. As can be seen below, none of the 5 cases had relapses. Perhaps early menopause decreases the chances, even significantly, but it is hard to be confident with such a small sample size. It would be safer to exclude this category from analysis."
   ]
  },
  {
   "cell_type": "code",
   "execution_count": 30,
   "id": "fa40e2ee-fb77-49ee-b147-10c65a8d06e5",
   "metadata": {},
   "outputs": [
    {
     "name": "stderr",
     "output_type": "stream",
     "text": [
      "/usr/local/lib/python3.11/site-packages/seaborn/categorical.py:641: FutureWarning: The default of observed=False is deprecated and will be changed to True in a future version of pandas. Pass observed=False to retain current behavior or observed=True to adopt the future default and silence this warning.\n",
      "  grouped_vals = vals.groupby(grouper)\n"
     ]
    },
    {
     "data": {
      "text/plain": [
       "<Axes: xlabel='menopause', ylabel='count'>"
      ]
     },
     "execution_count": 30,
     "metadata": {},
     "output_type": "execute_result"
    },
    {
     "data": {
      "image/png": "[encoded data removed]",
      "text/plain": [
       "<Figure size 640x480 with 1 Axes>"
      ]
     },
     "metadata": {},
     "output_type": "display_data"
    }
   ],
   "source": [
    "sns.countplot(x=bc['menopause'])"
   ]
  },
  {
   "cell_type": "code",
   "execution_count": 31,
   "id": "5d79636d-48db-4c6a-b94e-a8a98b48c978",
   "metadata": {},
   "outputs": [
    {
     "data": {
      "text/html": [
       "<div>\n",
       "<style scoped>\n",
       "    .dataframe tbody tr th:only-of-type {\n",
       "        vertical-align: middle;\n",
       "    }\n",
       "\n",
       "    .dataframe tbody tr th {\n",
       "        vertical-align: top;\n",
       "    }\n",
       "\n",
       "    .dataframe thead th {\n",
       "        text-align: right;\n",
       "    }\n",
       "</style>\n",
       "<table border=\"1\" class=\"dataframe\">\n",
       "  <thead>\n",
       "    <tr style=\"text-align: right;\">\n",
       "      <th></th>\n",
       "      <th>class</th>\n",
       "      <th>age</th>\n",
       "      <th>menopause</th>\n",
       "      <th>tumor-size</th>\n",
       "      <th>inv-nodes</th>\n",
       "      <th>node-caps</th>\n",
       "      <th>deg-malig</th>\n",
       "      <th>breast</th>\n",
       "      <th>breast-quad</th>\n",
       "      <th>irradiat</th>\n",
       "    </tr>\n",
       "  </thead>\n",
       "  <tbody>\n",
       "    <tr>\n",
       "      <th>12</th>\n",
       "      <td>no-recurrence-events</td>\n",
       "      <td>65</td>\n",
       "      <td>lt40</td>\n",
       "      <td>12.0</td>\n",
       "      <td>1</td>\n",
       "      <td>no</td>\n",
       "      <td>1</td>\n",
       "      <td>left</td>\n",
       "      <td>right_up</td>\n",
       "      <td>no</td>\n",
       "    </tr>\n",
       "    <tr>\n",
       "      <th>15</th>\n",
       "      <td>no-recurrence-events</td>\n",
       "      <td>65</td>\n",
       "      <td>lt40</td>\n",
       "      <td>32.0</td>\n",
       "      <td>1</td>\n",
       "      <td>no</td>\n",
       "      <td>1</td>\n",
       "      <td>left</td>\n",
       "      <td>left_low</td>\n",
       "      <td>no</td>\n",
       "    </tr>\n",
       "    <tr>\n",
       "      <th>50</th>\n",
       "      <td>no-recurrence-events</td>\n",
       "      <td>55</td>\n",
       "      <td>lt40</td>\n",
       "      <td>17.0</td>\n",
       "      <td>1</td>\n",
       "      <td>no</td>\n",
       "      <td>2</td>\n",
       "      <td>left</td>\n",
       "      <td>left_low</td>\n",
       "      <td>no</td>\n",
       "    </tr>\n",
       "    <tr>\n",
       "      <th>149</th>\n",
       "      <td>no-recurrence-events</td>\n",
       "      <td>55</td>\n",
       "      <td>lt40</td>\n",
       "      <td>32.0</td>\n",
       "      <td>1</td>\n",
       "      <td>no</td>\n",
       "      <td>3</td>\n",
       "      <td>right</td>\n",
       "      <td>left_up</td>\n",
       "      <td>no</td>\n",
       "    </tr>\n",
       "    <tr>\n",
       "      <th>154</th>\n",
       "      <td>no-recurrence-events</td>\n",
       "      <td>35</td>\n",
       "      <td>lt40</td>\n",
       "      <td>17.0</td>\n",
       "      <td>1</td>\n",
       "      <td>no</td>\n",
       "      <td>3</td>\n",
       "      <td>right</td>\n",
       "      <td>left_up</td>\n",
       "      <td>no</td>\n",
       "    </tr>\n",
       "  </tbody>\n",
       "</table>\n",
       "</div>"
      ],
      "text/plain": [
       "                    class  age menopause  tumor-size  inv-nodes node-caps  \\\n",
       "12   no-recurrence-events   65      lt40        12.0          1        no   \n",
       "15   no-recurrence-events   65      lt40        32.0          1        no   \n",
       "50   no-recurrence-events   55      lt40        17.0          1        no   \n",
       "149  no-recurrence-events   55      lt40        32.0          1        no   \n",
       "154  no-recurrence-events   35      lt40        17.0          1        no   \n",
       "\n",
       "    deg-malig breast breast-quad irradiat  \n",
       "12          1   left    right_up       no  \n",
       "15          1   left    left_low       no  \n",
       "50          2   left    left_low       no  \n",
       "149         3  right     left_up       no  \n",
       "154         3  right     left_up       no  "
      ]
     },
     "execution_count": 31,
     "metadata": {},
     "output_type": "execute_result"
    }
   ],
   "source": [
    "bc[bc['menopause'] == 'lt40']"
   ]
  },
  {
   "cell_type": "markdown",
   "id": "55edf325-e5c1-4e10-be8e-58fd9aff0b9c",
   "metadata": {},
   "source": [
    "### Tumor Size\n",
    "\n",
    "The size distribution is not Gaussian, but it is reasonable. There are small spikes in the extreme bins, but these are not far enough away to count as outliers."
   ]
  },
  {
   "cell_type": "code",
   "execution_count": 32,
   "id": "e30a0375-4d88-4fe8-a188-c96685579cce",
   "metadata": {},
   "outputs": [
    {
     "name": "stderr",
     "output_type": "stream",
     "text": [
      "/usr/local/lib/python3.11/site-packages/seaborn/_oldcore.py:1119: FutureWarning: use_inf_as_na option is deprecated and will be removed in a future version. Convert inf values to NaN before operating instead.\n",
      "  with pd.option_context('mode.use_inf_as_na', True):\n"
     ]
    },
    {
     "data": {
      "text/plain": [
       "<Axes: xlabel='tumor-size', ylabel='Count'>"
      ]
     },
     "execution_count": 32,
     "metadata": {},
     "output_type": "execute_result"
    },
    {
     "data": {
      "image/png": "[encoded data removed]",
      "text/plain": [
       "<Figure size 640x480 with 1 Axes>"
      ]
     },
     "metadata": {},
     "output_type": "display_data"
    }
   ],
   "source": [
    "sns.histplot(data=bc['tumor-size'], bins=[0, 5, 10, 15, 20, 25, 30, 35, 40, 45, 50, 55])"
   ]
  },
  {
   "cell_type": "markdown",
   "id": "dd2b51c6-29aa-45e0-acad-eabe7493273e",
   "metadata": {},
   "source": [
    "### Inv Nodes\n",
    "\n",
    "Here there are several outliers, i.e. values more than 3 standard deviations from the mean. The same issue could crop up as with menopause. These only amount to 10 entries, so they too are culled from the set, out of caution."
   ]
  },
  {
   "cell_type": "code",
   "execution_count": 33,
   "id": "dfe332e2-4639-4edf-a1cf-47ceee2e8d69",
   "metadata": {},
   "outputs": [
    {
     "name": "stderr",
     "output_type": "stream",
     "text": [
      "/usr/local/lib/python3.11/site-packages/seaborn/_oldcore.py:1119: FutureWarning: use_inf_as_na option is deprecated and will be removed in a future version. Convert inf values to NaN before operating instead.\n",
      "  with pd.option_context('mode.use_inf_as_na', True):\n"
     ]
    },
    {
     "data": {
      "text/plain": [
       "<Axes: xlabel='inv-nodes', ylabel='Count'>"
      ]
     },
     "execution_count": 33,
     "metadata": {},
     "output_type": "execute_result"
    },
    {
     "data": {
      "image/png": "[encoded data removed]",
      "text/plain": [
       "<Figure size 640x480 with 1 Axes>"
      ]
     },
     "metadata": {},
     "output_type": "display_data"
    }
   ],
   "source": [
    "sns.histplot(data=bc['inv-nodes'], bins=[0, 3, 6, 9, 12, 15, 18, 21, 24, 27])"
   ]
  },
  {
   "cell_type": "code",
   "execution_count": 34,
   "id": "3a885f00-f894-48b1-a915-8e51129f2141",
   "metadata": {},
   "outputs": [
    {
     "data": {
      "text/plain": [
       "12.744792283333641"
      ]
     },
     "execution_count": 34,
     "metadata": {},
     "output_type": "execute_result"
    }
   ],
   "source": [
    "bc['inv-nodes'].mean() + 3 * bc['inv-nodes'].std()"
   ]
  },
  {
   "cell_type": "code",
   "execution_count": 35,
   "id": "296cb462-8522-49dc-b2b3-5f28c728be93",
   "metadata": {},
   "outputs": [
    {
     "data": {
      "text/plain": [
       "10"
      ]
     },
     "execution_count": 35,
     "metadata": {},
     "output_type": "execute_result"
    }
   ],
   "source": [
    "len(bc[bc['inv-nodes'] > bc['inv-nodes'].mean() + 3 * bc['inv-nodes'].std()])"
   ]
  },
  {
   "cell_type": "markdown",
   "id": "542c5f96-a4a7-4857-b2c7-df3c1a4ed341",
   "metadata": {},
   "source": [
    "### Node Caps\n",
    "\n",
    "Node caps are less common, but there are enough points to gain insight."
   ]
  },
  {
   "cell_type": "code",
   "execution_count": 36,
   "id": "da6abed0-a9e0-4bb6-8e94-613aa2b20bf0",
   "metadata": {},
   "outputs": [
    {
     "name": "stderr",
     "output_type": "stream",
     "text": [
      "/usr/local/lib/python3.11/site-packages/seaborn/categorical.py:641: FutureWarning: The default of observed=False is deprecated and will be changed to True in a future version of pandas. Pass observed=False to retain current behavior or observed=True to adopt the future default and silence this warning.\n",
      "  grouped_vals = vals.groupby(grouper)\n"
     ]
    },
    {
     "data": {
      "text/plain": [
       "<Axes: xlabel='node-caps', ylabel='count'>"
      ]
     },
     "execution_count": 36,
     "metadata": {},
     "output_type": "execute_result"
    },
    {
     "data": {
      "image/png": "[encoded data removed]",
      "text/plain": [
       "<Figure size 640x480 with 1 Axes>"
      ]
     },
     "metadata": {},
     "output_type": "display_data"
    }
   ],
   "source": [
    "sns.countplot(x=bc['node-caps'])"
   ]
  },
  {
   "cell_type": "markdown",
   "id": "f9fc602a-fddd-4ad1-953a-69d489e5c510",
   "metadata": {},
   "source": [
    "### Deg Malig\n",
    "\n",
    "All seems reasonable here."
   ]
  },
  {
   "cell_type": "code",
   "execution_count": 37,
   "id": "f76adc11-f25f-4b99-a1a6-f7d11c41d922",
   "metadata": {},
   "outputs": [
    {
     "name": "stderr",
     "output_type": "stream",
     "text": [
      "/usr/local/lib/python3.11/site-packages/seaborn/categorical.py:641: FutureWarning: The default of observed=False is deprecated and will be changed to True in a future version of pandas. Pass observed=False to retain current behavior or observed=True to adopt the future default and silence this warning.\n",
      "  grouped_vals = vals.groupby(grouper)\n"
     ]
    },
    {
     "data": {
      "text/plain": [
       "<Axes: xlabel='deg-malig', ylabel='count'>"
      ]
     },
     "execution_count": 37,
     "metadata": {},
     "output_type": "execute_result"
    },
    {
     "data": {
      "image/png": "[encoded data removed]",
      "text/plain": [
       "<Figure size 640x480 with 1 Axes>"
      ]
     },
     "metadata": {},
     "output_type": "display_data"
    }
   ],
   "source": [
    "sns.countplot(x=bc['deg-malig'])"
   ]
  },
  {
   "cell_type": "markdown",
   "id": "f8be8b2f-0376-48d1-9b3f-8b1202f9919f",
   "metadata": {},
   "source": [
    "### Breast\n",
    "\n",
    "As expected, the distribution of breast cancer is roughly symmetrical."
   ]
  },
  {
   "cell_type": "code",
   "execution_count": 38,
   "id": "e95eb634-3ee2-4c8d-aa4c-cc8ab8cf44c8",
   "metadata": {},
   "outputs": [
    {
     "name": "stderr",
     "output_type": "stream",
     "text": [
      "/usr/local/lib/python3.11/site-packages/seaborn/categorical.py:641: FutureWarning: The default of observed=False is deprecated and will be changed to True in a future version of pandas. Pass observed=False to retain current behavior or observed=True to adopt the future default and silence this warning.\n",
      "  grouped_vals = vals.groupby(grouper)\n"
     ]
    },
    {
     "data": {
      "text/plain": [
       "<Axes: xlabel='breast', ylabel='count'>"
      ]
     },
     "execution_count": 38,
     "metadata": {},
     "output_type": "execute_result"
    },
    {
     "data": {
      "image/png": "[encoded data removed]",
      "text/plain": [
       "<Figure size 640x480 with 1 Axes>"
      ]
     },
     "metadata": {},
     "output_type": "display_data"
    }
   ],
   "source": [
    "sns.countplot(x=bc['breast'])"
   ]
  },
  {
   "cell_type": "markdown",
   "id": "003170b7-a6c0-413c-8cff-166131dad643",
   "metadata": {},
   "source": [
    "### Breast Quad\n",
    "\n",
    "Interestingly, there is a strong favoring of cases on the left side of the breast. Comparing this against the breast in which the tumor suggests that left breasts have more tumors in the lower quadrants, while right ones have more in the upper quadrants, revealing additional asymmetries, without an easily intuited explanation. This could be a product of inherent asymmetries in the human body, but it also signals the potential for bias in the data set. Not much can be done here. "
   ]
  },
  {
   "cell_type": "code",
   "execution_count": 39,
   "id": "a3b989e7-120f-4b97-921d-b9366769d753",
   "metadata": {},
   "outputs": [
    {
     "name": "stderr",
     "output_type": "stream",
     "text": [
      "/usr/local/lib/python3.11/site-packages/seaborn/categorical.py:641: FutureWarning: The default of observed=False is deprecated and will be changed to True in a future version of pandas. Pass observed=False to retain current behavior or observed=True to adopt the future default and silence this warning.\n",
      "  grouped_vals = vals.groupby(grouper)\n"
     ]
    },
    {
     "data": {
      "text/plain": [
       "<Axes: xlabel='breast-quad', ylabel='count'>"
      ]
     },
     "execution_count": 39,
     "metadata": {},
     "output_type": "execute_result"
    },
    {
     "data": {
      "image/png": "[encoded data removed]",
      "text/plain": [
       "<Figure size 640x480 with 1 Axes>"
      ]
     },
     "metadata": {},
     "output_type": "display_data"
    }
   ],
   "source": [
    "sns.countplot(x=bc['breast-quad'])"
   ]
  },
  {
   "cell_type": "code",
   "execution_count": 40,
   "id": "167cd091-2d31-4ff7-98e9-a2a687a50119",
   "metadata": {},
   "outputs": [
    {
     "name": "stderr",
     "output_type": "stream",
     "text": [
      "/usr/local/lib/python3.11/site-packages/seaborn/categorical.py:641: FutureWarning: The default of observed=False is deprecated and will be changed to True in a future version of pandas. Pass observed=False to retain current behavior or observed=True to adopt the future default and silence this warning.\n",
      "  grouped_vals = vals.groupby(grouper)\n"
     ]
    },
    {
     "data": {
      "text/plain": [
       "<Axes: xlabel='breast-quad', ylabel='count'>"
      ]
     },
     "execution_count": 40,
     "metadata": {},
     "output_type": "execute_result"
    },
    {
     "data": {
      "image/png": "[encoded data removed]",
      "text/plain": [
       "<Figure size 640x480 with 1 Axes>"
      ]
     },
     "metadata": {},
     "output_type": "display_data"
    }
   ],
   "source": [
    "sns.countplot(x=bc['breast-quad'], hue=bc['breast'])"
   ]
  },
  {
   "cell_type": "markdown",
   "id": "0bd98322-b812-499d-810b-fb0e6e768dff",
   "metadata": {},
   "source": [
    "### Irradiat\n",
    "\n",
    "Radiation treatment is less common, but there are enough points to gain insight."
   ]
  },
  {
   "cell_type": "code",
   "execution_count": 41,
   "id": "d2e68723-91f2-4754-bed2-f4c5c7e43bbb",
   "metadata": {},
   "outputs": [
    {
     "name": "stderr",
     "output_type": "stream",
     "text": [
      "/usr/local/lib/python3.11/site-packages/seaborn/categorical.py:641: FutureWarning: The default of observed=False is deprecated and will be changed to True in a future version of pandas. Pass observed=False to retain current behavior or observed=True to adopt the future default and silence this warning.\n",
      "  grouped_vals = vals.groupby(grouper)\n"
     ]
    },
    {
     "data": {
      "text/plain": [
       "<Axes: xlabel='irradiat', ylabel='count'>"
      ]
     },
     "execution_count": 41,
     "metadata": {},
     "output_type": "execute_result"
    },
    {
     "data": {
      "image/png": "[encoded data removed]",
      "text/plain": [
       "<Figure size 640x480 with 1 Axes>"
      ]
     },
     "metadata": {},
     "output_type": "display_data"
    }
   ],
   "source": [
    "sns.countplot(x=bc['irradiat'])"
   ]
  },
  {
   "cell_type": "markdown",
   "id": "ac9595fb-3c0a-47bb-a752-9f4de1fba861",
   "metadata": {},
   "source": [
    "## Drop Columns\n",
    "\n",
    "All of the columns present seem appropriate for predicting breast cancer relapse. No columns are excluded from analysis."
   ]
  },
  {
   "cell_type": "markdown",
   "id": "dc4f10a6-741f-42b1-aa17-407dae11e9e9",
   "metadata": {},
   "source": [
    "## Drop Rows\n",
    "\n",
    "The \"lt40\" category for menpause and outliers for inv nodes are culled from the data set, as discussed in the univariate analysis."
   ]
  },
  {
   "cell_type": "code",
   "execution_count": 42,
   "id": "2aeb4a0b-6a91-406c-a95a-6a840649f9bf",
   "metadata": {},
   "outputs": [],
   "source": [
    "bc = bc[(bc['menopause'] != 'lt40') & (bc['inv-nodes'] <= (bc['inv-nodes'].mean() + 3 * bc['inv-nodes'].std()))]"
   ]
  },
  {
   "cell_type": "code",
   "execution_count": 43,
   "id": "c0915e89-65f4-4f60-a6af-0121da9c8e28",
   "metadata": {},
   "outputs": [
    {
     "data": {
      "text/plain": [
       "['premeno', 'ge40']\n",
       "Categories (2, object): ['ge40', 'premeno']"
      ]
     },
     "execution_count": 43,
     "metadata": {},
     "output_type": "execute_result"
    }
   ],
   "source": [
    "bc['menopause'] = bc['menopause'].astype(str).astype('category')\n",
    "bc['menopause'].unique()"
   ]
  },
  {
   "cell_type": "code",
   "execution_count": 44,
   "id": "517c9f5f-99f2-41b9-b20a-7c65f9c551c3",
   "metadata": {},
   "outputs": [
    {
     "data": {
      "text/plain": [
       "array([ 1,  7, 10,  4])"
      ]
     },
     "execution_count": 44,
     "metadata": {},
     "output_type": "execute_result"
    }
   ],
   "source": [
    "bc['inv-nodes'].unique()"
   ]
  },
  {
   "cell_type": "markdown",
   "id": "d68e4ddd-f925-4ec0-83a6-8c996f332b03",
   "metadata": {},
   "source": [
    "## One-Hot Encoding\n",
    "\n",
    "At this point, categorical variables will be converted to one-hot encoding, to make them useful for training machine learning models."
   ]
  },
  {
   "cell_type": "code",
   "execution_count": 45,
   "id": "2fc7e989-5bed-4f4f-965d-3b5a65135829",
   "metadata": {},
   "outputs": [
    {
     "name": "stdout",
     "output_type": "stream",
     "text": [
      "<class 'pandas.core.frame.DataFrame'>\n",
      "Index: 262 entries, 0 to 285\n",
      "Data columns (total 10 columns):\n",
      " #   Column       Non-Null Count  Dtype   \n",
      "---  ------       --------------  -----   \n",
      " 0   class        262 non-null    category\n",
      " 1   age          262 non-null    int64   \n",
      " 2   menopause    262 non-null    category\n",
      " 3   tumor-size   262 non-null    float64 \n",
      " 4   inv-nodes    262 non-null    int64   \n",
      " 5   node-caps    262 non-null    category\n",
      " 6   deg-malig    262 non-null    category\n",
      " 7   breast       262 non-null    category\n",
      " 8   breast-quad  262 non-null    category\n",
      " 9   irradiat     262 non-null    category\n",
      "dtypes: category(7), float64(1), int64(2)\n",
      "memory usage: 10.9 KB\n"
     ]
    }
   ],
   "source": [
    "bc.info()"
   ]
  },
  {
   "cell_type": "code",
   "execution_count": 46,
   "id": "f2c36e9b-2698-4ca8-a6aa-5b8845b4c720",
   "metadata": {},
   "outputs": [
    {
     "name": "stdout",
     "output_type": "stream",
     "text": [
      "<class 'pandas.core.frame.DataFrame'>\n",
      "Index: 262 entries, 0 to 285\n",
      "Data columns (total 14 columns):\n",
      " #   Column                   Non-Null Count  Dtype  \n",
      "---  ------                   --------------  -----  \n",
      " 0   age                      262 non-null    int64  \n",
      " 1   tumor-size               262 non-null    float64\n",
      " 2   inv-nodes                262 non-null    int64  \n",
      " 3   class_recurrence-events  262 non-null    bool   \n",
      " 4   menopause_premeno        262 non-null    bool   \n",
      " 5   node-caps_yes            262 non-null    bool   \n",
      " 6   deg-malig_2              262 non-null    bool   \n",
      " 7   deg-malig_3              262 non-null    bool   \n",
      " 8   breast_right             262 non-null    bool   \n",
      " 9   breast-quad_left_low     262 non-null    bool   \n",
      " 10  breast-quad_left_up      262 non-null    bool   \n",
      " 11  breast-quad_right_low    262 non-null    bool   \n",
      " 12  breast-quad_right_up     262 non-null    bool   \n",
      " 13  irradiat_yes             262 non-null    bool   \n",
      "dtypes: bool(11), float64(1), int64(2)\n",
      "memory usage: 11.0 KB\n"
     ]
    }
   ],
   "source": [
    "bc = pd.get_dummies(bc, columns=['class',\n",
    "                                 'menopause',\n",
    "                                 'node-caps',\n",
    "                                 'deg-malig',\n",
    "                                 'breast',\n",
    "                                 'breast-quad',\n",
    "                                 'irradiat'], drop_first=True)\n",
    "bc.info()"
   ]
  },
  {
   "cell_type": "code",
   "execution_count": 47,
   "id": "ed49dcdf-cdf8-4af4-a2b4-6f37ea11865d",
   "metadata": {},
   "outputs": [],
   "source": [
    "bc.to_csv('bc_clean.csv')"
   ]
  }
 ],
 "metadata": {
  "kernelspec": {
   "display_name": "Python 3 (ipykernel)",
   "language": "python",
   "name": "python3"
  },
  "language_info": {
   "codemirror_mode": {
    "name": "ipython",
    "version": 3
   },
   "file_extension": ".py",
   "mimetype": "text/x-python",
   "name": "python",
   "nbconvert_exporter": "python",
   "pygments_lexer": "ipython3",
   "version": "3.11.1"
  }
 },
 "nbformat": 4,
 "nbformat_minor": 5
}
