{
 "cells": [
  {
   "cell_type": "markdown",
   "id": "b5f094f0-a487-4f38-9c47-e918a6fae4b5",
   "metadata": {},
   "source": [
    "# Project 3 Preprocessing\n",
    "\n",
    "Ashton Cole\n",
    "\n",
    "AVC687\n",
    "\n",
    "COE 379L: Software Design for Responsive Intelligent Systems"
   ]
  },
  {
   "cell_type": "code",
   "execution_count": 1,
   "id": "91564a4d-9dd5-4c4f-b8af-41c6d45fb413",
   "metadata": {},
   "outputs": [],
   "source": [
    "import os\n",
    "from pathlib import Path\n",
    "import random\n",
    "import shutil\n",
    "\n",
    "trf = 0.8 # Training fraction"
   ]
  },
  {
   "cell_type": "code",
   "execution_count": 2,
   "id": "44d8ae87-c3ef-47e8-932f-48be1382c239",
   "metadata": {},
   "outputs": [],
   "source": [
    "# Clean train-test split directories\n",
    "try:\n",
    "    shutil.rmtree('data/split/train')\n",
    "    shutil.rmtree('data/split/test')\n",
    "except:\n",
    "    pass"
   ]
  },
  {
   "cell_type": "code",
   "execution_count": 3,
   "id": "4680687a-4601-4b1e-8421-55e32a020bbc",
   "metadata": {},
   "outputs": [],
   "source": [
    "# Make new train-test split directories\n",
    "Path('data/split/train/damage').mkdir(parents=True, exist_ok=True)\n",
    "Path('data/split/train/no_damage').mkdir(parents=True, exist_ok=True)\n",
    "Path('data/split/test/damage').mkdir(parents=True, exist_ok=True)\n",
    "Path('data/split/test/no_damage').mkdir(parents=True, exist_ok=True)"
   ]
  },
  {
   "cell_type": "code",
   "execution_count": 4,
   "id": "fb2f1c34-6897-4162-84e5-323ef2a28e9e",
   "metadata": {},
   "outputs": [],
   "source": [
    "# Collect file paths\n",
    "all_damage_paths = os.listdir('data/data_all_modified/damage')\n",
    "all_no_damage_paths = os.listdir('data/data_all_modified/no_damage')"
   ]
  },
  {
   "cell_type": "code",
   "execution_count": 5,
   "id": "1a3d5773-02a7-4b61-99f6-6e6e39271466",
   "metadata": {},
   "outputs": [
    {
     "name": "stdout",
     "output_type": "stream",
     "text": [
      "train damage image count: 11336\n",
      "test damage image count: 2834\n",
      "damage image overlap: 0\n",
      "train no damage image count: 5721\n",
      "test no damage image count: 1431\n",
      "damage image overlap: 0\n"
     ]
    }
   ],
   "source": [
    "# Train-test split\n",
    "# Damage\n",
    "train_damage_paths = random.sample(all_damage_paths, int(len(all_damage_paths) * trf))\n",
    "print(f'train damage image count: {len(train_damage_paths)}')\n",
    "test_damage_paths = [p for p in all_damage_paths if p not in train_damage_paths]\n",
    "print(f'test damage image count: {len(test_damage_paths)}')\n",
    "overlap = [p for p in train_damage_paths if p in test_damage_paths]\n",
    "print(f'damage image overlap: {len(overlap)}') # Should be 0\n",
    "# No damage\n",
    "train_no_damage_paths = random.sample(all_no_damage_paths, int(len(all_no_damage_paths) * trf))\n",
    "print(f'train no damage image count: {len(train_no_damage_paths)}')\n",
    "test_no_damage_paths = [p for p in all_no_damage_paths if p not in train_no_damage_paths]\n",
    "print(f'test no damage image count: {len(test_no_damage_paths)}')\n",
    "overlap = [p for p in train_no_damage_paths if p in test_no_damage_paths]\n",
    "print(f'damage image overlap: {len(overlap)}') # Should be 0"
   ]
  },
  {
   "cell_type": "code",
   "execution_count": 6,
   "id": "a4929682-7491-4b40-a1f6-94a6cdafee14",
   "metadata": {},
   "outputs": [
    {
     "name": "stdout",
     "output_type": "stream",
     "text": [
      "train/damage:  11336\n",
      "test/damage:  2834\n",
      "train/no_damage:  5721\n",
      "test/no_damage:  1431\n"
     ]
    }
   ],
   "source": [
    "# Copy files\n",
    "for p in train_damage_paths:\n",
    "    shutil.copyfile(os.path.join('data/data_all_modified/damage', p),\n",
    "                    os.path.join('data/split/train/damage', p))\n",
    "for p in test_damage_paths:\n",
    "    shutil.copyfile(os.path.join('data/data_all_modified/damage', p),\n",
    "                    os.path.join('data/split/test/damage', p))\n",
    "for p in train_no_damage_paths:\n",
    "    shutil.copyfile(os.path.join('data/data_all_modified/no_damage', p),\n",
    "                    os.path.join('data/split/train/no_damage', p))\n",
    "for p in test_no_damage_paths:\n",
    "    shutil.copyfile(os.path.join('data/data_all_modified/no_damage', p),\n",
    "                    os.path.join('data/split/test/no_damage', p))\n",
    "# Check\n",
    "print('train/damage: ', len(os.listdir('data/split/train/damage')))\n",
    "print('test/damage: ', len(os.listdir('data/split/test/damage')))\n",
    "print('train/no_damage: ', len(os.listdir('data/split/train/no_damage')))\n",
    "print('test/no_damage: ', len(os.listdir('data/split/test/no_damage')))"
   ]
  }
 ],
 "metadata": {
  "kernelspec": {
   "display_name": "Python 3 (ipykernel)",
   "language": "python",
   "name": "python3"
  },
  "language_info": {
   "codemirror_mode": {
    "name": "ipython",
    "version": 3
   },
   "file_extension": ".py",
   "mimetype": "text/x-python",
   "name": "python",
   "nbconvert_exporter": "python",
   "pygments_lexer": "ipython3",
   "version": "3.11.1"
  }
 },
 "nbformat": 4,
 "nbformat_minor": 5
}
