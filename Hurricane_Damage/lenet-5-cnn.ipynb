{
 "cells": [
  {
   "cell_type": "markdown",
   "id": "7c8fcf66-4447-4aac-80d2-c5cc86467db6",
   "metadata": {},
   "source": [
    "# Project 3 LENET-5 CNN\n",
    "\n",
    "Ashton Cole\n",
    "\n",
    "AVC687\n",
    "\n",
    "COE 379L: Software Design for Responsive Intelligent Systems\n",
    "\n",
    "## Description\n",
    "\n",
    "This notebook builds a LENET-5 Convolutional Neural Network."
   ]
  },
  {
   "cell_type": "code",
   "execution_count": 1,
   "id": "306504d4-45de-427d-9f08-3d28d1b3f7c0",
   "metadata": {},
   "outputs": [
    {
     "name": "stderr",
     "output_type": "stream",
     "text": [
      "2024-04-09 23:13:43.514435: I external/local_tsl/tsl/cuda/cudart_stub.cc:31] Could not find cuda drivers on your machine, GPU will not be used.\n",
      "2024-04-09 23:13:43.555671: E external/local_xla/xla/stream_executor/cuda/cuda_dnn.cc:9261] Unable to register cuDNN factory: Attempting to register factory for plugin cuDNN when one has already been registered\n",
      "2024-04-09 23:13:43.555734: E external/local_xla/xla/stream_executor/cuda/cuda_fft.cc:607] Unable to register cuFFT factory: Attempting to register factory for plugin cuFFT when one has already been registered\n",
      "2024-04-09 23:13:43.557760: E external/local_xla/xla/stream_executor/cuda/cuda_blas.cc:1515] Unable to register cuBLAS factory: Attempting to register factory for plugin cuBLAS when one has already been registered\n",
      "2024-04-09 23:13:43.566388: I external/local_tsl/tsl/cuda/cudart_stub.cc:31] Could not find cuda drivers on your machine, GPU will not be used.\n",
      "2024-04-09 23:13:43.567869: I tensorflow/core/platform/cpu_feature_guard.cc:182] This TensorFlow binary is optimized to use available CPU instructions in performance-critical operations.\n",
      "To enable the following instructions: AVX2 FMA, in other operations, rebuild TensorFlow with the appropriate compiler flags.\n",
      "2024-04-09 23:13:44.693373: W tensorflow/compiler/tf2tensorrt/utils/py_utils.cc:38] TF-TRT Warning: Could not find TensorRT\n"
     ]
    }
   ],
   "source": [
    "import tensorflow as tf\n",
    "from tensorflow.keras import optimizers, Sequential\n",
    "from tensorflow.keras.layers import Conv2D, Dense, Flatten, AveragePooling2D\n",
    "from tensorflow.keras.layers.experimental.preprocessing import Rescaling"
   ]
  },
  {
   "cell_type": "markdown",
   "id": "45e06d46-a696-4971-b955-3a2e481c32ec",
   "metadata": {},
   "source": [
    "## Preprocessing"
   ]
  },
  {
   "cell_type": "code",
   "execution_count": 2,
   "id": "c697382e-ac51-4f47-a65e-7f7d8d7dd950",
   "metadata": {},
   "outputs": [
    {
     "name": "stdout",
     "output_type": "stream",
     "text": [
      "Found 17057 files belonging to 2 classes.\n",
      "Using 13646 files for training.\n",
      "Using 3411 files for validation.\n",
      "Found 4265 files belonging to 2 classes.\n"
     ]
    }
   ],
   "source": [
    "validation_split = 0.2 # Validation split\n",
    "batch_size = 32\n",
    "seed = 123\n",
    "\n",
    "image_height = 128\n",
    "image_width = 128\n",
    "\n",
    "train_dir = 'data/split/train'\n",
    "test_dir = 'data/split/test'\n",
    "\n",
    "rescale = Rescaling(scale=1.0/255)\n",
    "\n",
    "data_train, data_validation = tf.keras.utils.image_dataset_from_directory(\n",
    "    train_dir,\n",
    "    validation_split=validation_split,\n",
    "    subset='both',\n",
    "    seed=seed,\n",
    "    image_size=(image_height, image_width),\n",
    "    batch_size=batch_size)\n",
    "data_test = tf.keras.utils.image_dataset_from_directory(\n",
    "    test_dir,\n",
    "    seed=seed,\n",
    "    image_size=(image_height, image_width),\n",
    "    batch_size=batch_size)\n",
    "\n",
    "data_train_scaled = data_train.map(lambda image, label: (rescale(image), label))\n",
    "data_validation_scaled = data_validation.map(lambda image, label: (rescale(image), label))\n",
    "data_test_scaled = data_test.map(lambda image, label: (rescale(image), label))"
   ]
  },
  {
   "cell_type": "markdown",
   "id": "8dea986a-6979-43ba-8585-d3a4f062fc81",
   "metadata": {},
   "source": [
    "## Model Construction"
   ]
  },
  {
   "cell_type": "code",
   "execution_count": 3,
   "id": "06814d7d-66a5-442d-9cb2-54e281944225",
   "metadata": {},
   "outputs": [
    {
     "name": "stdout",
     "output_type": "stream",
     "text": [
      "Model: \"sequential\"\n",
      "_________________________________________________________________\n",
      " Layer (type)                Output Shape              Param #   \n",
      "=================================================================\n",
      " conv2d (Conv2D)             (None, 126, 126, 6)       168       \n",
      "                                                                 \n",
      " average_pooling2d (Average  (None, 63, 63, 6)         0         \n",
      " Pooling2D)                                                      \n",
      "                                                                 \n",
      " conv2d_1 (Conv2D)           (None, 61, 61, 16)        880       \n",
      "                                                                 \n",
      " flatten (Flatten)           (None, 59536)             0         \n",
      "                                                                 \n",
      " dense (Dense)               (None, 100)               5953700   \n",
      "                                                                 \n",
      " dense_1 (Dense)             (None, 84)                8484      \n",
      "                                                                 \n",
      " dense_2 (Dense)             (None, 2)                 170       \n",
      "                                                                 \n",
      "=================================================================\n",
      "Total params: 5963402 (22.75 MB)\n",
      "Trainable params: 5963402 (22.75 MB)\n",
      "Non-trainable params: 0 (0.00 Byte)\n",
      "_________________________________________________________________\n"
     ]
    }
   ],
   "source": [
    "image_length = image_height * image_width * 3\n",
    "\n",
    "model = Sequential()\n",
    "# C1\n",
    "model.add(Conv2D(6, kernel_size=(3, 3), activation='relu', input_shape=(image_height, image_width, 3)))\n",
    "# S2\n",
    "model.add(AveragePooling2D(pool_size=(2, 2)))\n",
    "# C3\n",
    "model.add(Conv2D(16, kernel_size=(3, 3), activation='relu'))\n",
    "# F4\n",
    "model.add(Flatten())\n",
    "# F5\n",
    "model.add(Dense(100, activation='relu'))\n",
    "# F6\n",
    "model.add(Dense(84, activation='relu'))\n",
    "# Output\n",
    "model.add(Dense(2, activation='softmax'))\n",
    "\n",
    "model.summary()"
   ]
  },
  {
   "cell_type": "markdown",
   "id": "44dafecc-1355-4f32-a4da-547f8cf4a3cf",
   "metadata": {},
   "source": [
    "## Model Compilation and Fitting"
   ]
  },
  {
   "cell_type": "code",
   "execution_count": 4,
   "id": "65f3a30c-cb4e-46c7-9fb6-bf34e538f43e",
   "metadata": {},
   "outputs": [
    {
     "name": "stdout",
     "output_type": "stream",
     "text": [
      "Epoch 1/5\n",
      "427/427 - 45s - loss: 0.5655 - accuracy: 0.7297 - val_loss: 0.4517 - val_accuracy: 0.8042 - 45s/epoch - 105ms/step\n",
      "Epoch 2/5\n",
      "427/427 - 42s - loss: 0.4360 - accuracy: 0.8271 - val_loss: 0.3820 - val_accuracy: 0.8678 - 42s/epoch - 98ms/step\n",
      "Epoch 3/5\n",
      "427/427 - 29s - loss: 0.4004 - accuracy: 0.8427 - val_loss: 0.3620 - val_accuracy: 0.8725 - 29s/epoch - 68ms/step\n",
      "Epoch 4/5\n",
      "427/427 - 29s - loss: 0.3812 - accuracy: 0.8486 - val_loss: 0.5358 - val_accuracy: 0.7543 - 29s/epoch - 68ms/step\n",
      "Epoch 5/5\n",
      "427/427 - 29s - loss: 0.3633 - accuracy: 0.8556 - val_loss: 0.3670 - val_accuracy: 0.8461 - 29s/epoch - 67ms/step\n"
     ]
    },
    {
     "data": {
      "text/plain": [
       "<keras.src.callbacks.History at 0x7f5147d3b990>"
      ]
     },
     "execution_count": 4,
     "metadata": {},
     "output_type": "execute_result"
    }
   ],
   "source": [
    "optimizer=optimizers.RMSprop(learning_rate=1e-4)\n",
    "loss='sparse_categorical_crossentropy'\n",
    "metrics=['accuracy']\n",
    "\n",
    "model.compile(\n",
    "    optimizer=optimizer,\n",
    "    loss=loss,\n",
    "    metrics=metrics)\n",
    "\n",
    "model.fit(\n",
    "    x=data_train_scaled,\n",
    "    epochs=5,\n",
    "    validation_data=data_validation_scaled,\n",
    "    verbose=2,\n",
    "    batch_size=batch_size)"
   ]
  },
  {
   "cell_type": "markdown",
   "id": "13f07ee5-ef37-4e87-8b59-d6c8a0c5c9f5",
   "metadata": {},
   "source": [
    "## Model Testing"
   ]
  },
  {
   "cell_type": "code",
   "execution_count": 5,
   "id": "8561353e-734c-47de-b249-0f9f0183efa3",
   "metadata": {},
   "outputs": [
    {
     "data": {
      "text/plain": [
       "0.8415005803108215"
      ]
     },
     "execution_count": 5,
     "metadata": {},
     "output_type": "execute_result"
    }
   ],
   "source": [
    "test_loss, test_accuracy = model.evaluate(data_test_scaled, verbose=0)\n",
    "test_accuracy"
   ]
  }
 ],
 "metadata": {
  "kernelspec": {
   "display_name": "Python 3 (ipykernel)",
   "language": "python",
   "name": "python3"
  },
  "language_info": {
   "codemirror_mode": {
    "name": "ipython",
    "version": 3
   },
   "file_extension": ".py",
   "mimetype": "text/x-python",
   "name": "python",
   "nbconvert_exporter": "python",
   "pygments_lexer": "ipython3",
   "version": "3.11.1"
  }
 },
 "nbformat": 4,
 "nbformat_minor": 5
}
