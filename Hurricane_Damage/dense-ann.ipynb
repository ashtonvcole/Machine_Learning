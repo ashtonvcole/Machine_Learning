{
 "cells": [
  {
   "cell_type": "markdown",
   "id": "7c8fcf66-4447-4aac-80d2-c5cc86467db6",
   "metadata": {},
   "source": [
    "# Project 3 ANN\n",
    "\n",
    "Ashton Cole\n",
    "\n",
    "AVC687\n",
    "\n",
    "COE 379L: Software Design for Responsive Intelligent Systems\n",
    "\n",
    "## Description\n",
    "\n",
    "This notebook builds a densely-connected Artificial Neural Network."
   ]
  },
  {
   "cell_type": "code",
   "execution_count": 1,
   "id": "306504d4-45de-427d-9f08-3d28d1b3f7c0",
   "metadata": {},
   "outputs": [
    {
     "name": "stderr",
     "output_type": "stream",
     "text": [
      "2024-04-09 23:13:24.090570: I external/local_tsl/tsl/cuda/cudart_stub.cc:31] Could not find cuda drivers on your machine, GPU will not be used.\n",
      "2024-04-09 23:13:24.134365: E external/local_xla/xla/stream_executor/cuda/cuda_dnn.cc:9261] Unable to register cuDNN factory: Attempting to register factory for plugin cuDNN when one has already been registered\n",
      "2024-04-09 23:13:24.134426: E external/local_xla/xla/stream_executor/cuda/cuda_fft.cc:607] Unable to register cuFFT factory: Attempting to register factory for plugin cuFFT when one has already been registered\n",
      "2024-04-09 23:13:24.137046: E external/local_xla/xla/stream_executor/cuda/cuda_blas.cc:1515] Unable to register cuBLAS factory: Attempting to register factory for plugin cuBLAS when one has already been registered\n",
      "2024-04-09 23:13:24.147673: I external/local_tsl/tsl/cuda/cudart_stub.cc:31] Could not find cuda drivers on your machine, GPU will not be used.\n",
      "2024-04-09 23:13:24.148671: I tensorflow/core/platform/cpu_feature_guard.cc:182] This TensorFlow binary is optimized to use available CPU instructions in performance-critical operations.\n",
      "To enable the following instructions: AVX2 FMA, in other operations, rebuild TensorFlow with the appropriate compiler flags.\n",
      "2024-04-09 23:13:25.183592: W tensorflow/compiler/tf2tensorrt/utils/py_utils.cc:38] TF-TRT Warning: Could not find TensorRT\n"
     ]
    }
   ],
   "source": [
    "import tensorflow as tf\n",
    "from tensorflow.keras import Sequential\n",
    "from tensorflow.keras.layers import Dense, Flatten\n",
    "from tensorflow.keras.layers.experimental.preprocessing import Rescaling"
   ]
  },
  {
   "cell_type": "markdown",
   "id": "45e06d46-a696-4971-b955-3a2e481c32ec",
   "metadata": {},
   "source": [
    "## Preprocessing"
   ]
  },
  {
   "cell_type": "code",
   "execution_count": 2,
   "id": "c697382e-ac51-4f47-a65e-7f7d8d7dd950",
   "metadata": {},
   "outputs": [
    {
     "name": "stdout",
     "output_type": "stream",
     "text": [
      "Found 17057 files belonging to 2 classes.\n",
      "Using 13646 files for training.\n",
      "Using 3411 files for validation.\n",
      "Found 4265 files belonging to 2 classes.\n"
     ]
    }
   ],
   "source": [
    "validation_split = 0.2 # Validation split\n",
    "batch_size = 32\n",
    "seed = 123\n",
    "\n",
    "image_height = 128\n",
    "image_width = 128\n",
    "\n",
    "train_dir = 'data/split/train'\n",
    "test_dir = 'data/split/test'\n",
    "\n",
    "rescale = Rescaling(scale=1.0/255)\n",
    "\n",
    "data_train, data_validation = tf.keras.utils.image_dataset_from_directory(\n",
    "    train_dir,\n",
    "    validation_split=validation_split,\n",
    "    subset='both',\n",
    "    seed=seed,\n",
    "    image_size=(image_height, image_width),\n",
    "    batch_size=batch_size)\n",
    "data_test = tf.keras.utils.image_dataset_from_directory(\n",
    "    test_dir,\n",
    "    seed=seed,\n",
    "    image_size=(image_height, image_width),\n",
    "    batch_size=batch_size)\n",
    "\n",
    "data_train_scaled = data_train.map(lambda image, label: (rescale(image), label))\n",
    "data_validation_scaled = data_validation.map(lambda image, label: (rescale(image), label))\n",
    "data_test_scaled = data_test.map(lambda image, label: (rescale(image), label))"
   ]
  },
  {
   "cell_type": "markdown",
   "id": "8dea986a-6979-43ba-8585-d3a4f062fc81",
   "metadata": {},
   "source": [
    "## Model Construction"
   ]
  },
  {
   "cell_type": "code",
   "execution_count": 3,
   "id": "06814d7d-66a5-442d-9cb2-54e281944225",
   "metadata": {},
   "outputs": [
    {
     "name": "stdout",
     "output_type": "stream",
     "text": [
      "Model: \"sequential\"\n",
      "_________________________________________________________________\n",
      " Layer (type)                Output Shape              Param #   \n",
      "=================================================================\n",
      " flatten (Flatten)           (None, 49152)             0         \n",
      "                                                                 \n",
      " dense (Dense)               (None, 128)               6291584   \n",
      "                                                                 \n",
      " dense_1 (Dense)             (None, 128)               16512     \n",
      "                                                                 \n",
      " dense_2 (Dense)             (None, 2)                 258       \n",
      "                                                                 \n",
      "=================================================================\n",
      "Total params: 6308354 (24.06 MB)\n",
      "Trainable params: 6308354 (24.06 MB)\n",
      "Non-trainable params: 0 (0.00 Byte)\n",
      "_________________________________________________________________\n"
     ]
    }
   ],
   "source": [
    "image_length = image_height * image_width * 3\n",
    "\n",
    "model = Sequential()\n",
    "# F1\n",
    "model.add(Flatten(input_shape=(image_height, image_width, 3)))\n",
    "# F2\n",
    "model.add(Dense(128, activation='relu'))\n",
    "# F3\n",
    "model.add(Dense(128, activation='relu'))\n",
    "# Output\n",
    "model.add(Dense(2, activation='softmax'))\n",
    "\n",
    "model.summary()"
   ]
  },
  {
   "cell_type": "markdown",
   "id": "44dafecc-1355-4f32-a4da-547f8cf4a3cf",
   "metadata": {},
   "source": [
    "## Model Compilation and Fitting"
   ]
  },
  {
   "cell_type": "code",
   "execution_count": 4,
   "id": "65f3a30c-cb4e-46c7-9fb6-bf34e538f43e",
   "metadata": {},
   "outputs": [
    {
     "name": "stdout",
     "output_type": "stream",
     "text": [
      "Epoch 1/5\n",
      "427/427 - 16s - loss: 0.8669 - accuracy: 0.6453 - val_loss: 0.6387 - val_accuracy: 0.6775 - 16s/epoch - 37ms/step\n",
      "Epoch 2/5\n",
      "427/427 - 18s - loss: 0.5976 - accuracy: 0.6970 - val_loss: 0.6683 - val_accuracy: 0.5731 - 18s/epoch - 43ms/step\n",
      "Epoch 3/5\n",
      "427/427 - 20s - loss: 0.6083 - accuracy: 0.6784 - val_loss: 0.5733 - val_accuracy: 0.6681 - 20s/epoch - 46ms/step\n",
      "Epoch 4/5\n",
      "427/427 - 21s - loss: 0.5997 - accuracy: 0.6637 - val_loss: 0.6606 - val_accuracy: 0.6681 - 21s/epoch - 50ms/step\n",
      "Epoch 5/5\n",
      "427/427 - 23s - loss: 0.6421 - accuracy: 0.6637 - val_loss: 0.6358 - val_accuracy: 0.6681 - 23s/epoch - 55ms/step\n"
     ]
    },
    {
     "data": {
      "text/plain": [
       "<keras.src.callbacks.History at 0x7fc170e0d910>"
      ]
     },
     "execution_count": 4,
     "metadata": {},
     "output_type": "execute_result"
    }
   ],
   "source": [
    "optimizer='adam'\n",
    "loss='sparse_categorical_crossentropy'\n",
    "metrics=['accuracy']\n",
    "\n",
    "model.compile(\n",
    "    optimizer=optimizer,\n",
    "    loss=loss,\n",
    "    metrics=metrics)\n",
    "\n",
    "model.fit(\n",
    "    x=data_train_scaled,\n",
    "    epochs=5,\n",
    "    validation_data=data_validation_scaled,\n",
    "    verbose=2,\n",
    "    batch_size=batch_size)"
   ]
  },
  {
   "cell_type": "markdown",
   "id": "08e21f24-3d4c-495d-95ab-181c8e9e1956",
   "metadata": {},
   "source": [
    "## Model Testing"
   ]
  },
  {
   "cell_type": "code",
   "execution_count": 5,
   "id": "80cf1b15-1096-4381-8a4f-cb5280aec7b9",
   "metadata": {},
   "outputs": [
    {
     "data": {
      "text/plain": [
       "0.6644783020019531"
      ]
     },
     "execution_count": 5,
     "metadata": {},
     "output_type": "execute_result"
    }
   ],
   "source": [
    "test_loss, test_accuracy = model.evaluate(data_test_scaled, verbose=0)\n",
    "test_accuracy"
   ]
  }
 ],
 "metadata": {
  "kernelspec": {
   "display_name": "Python 3 (ipykernel)",
   "language": "python",
   "name": "python3"
  },
  "language_info": {
   "codemirror_mode": {
    "name": "ipython",
    "version": 3
   },
   "file_extension": ".py",
   "mimetype": "text/x-python",
   "name": "python",
   "nbconvert_exporter": "python",
   "pygments_lexer": "ipython3",
   "version": "3.11.1"
  }
 },
 "nbformat": 4,
 "nbformat_minor": 5
}
