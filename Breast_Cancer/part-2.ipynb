{
 "cells": [
  {
   "cell_type": "markdown",
   "id": "93ec1034-bc36-4e8c-b8b3-b01aa4f6f655",
   "metadata": {},
   "source": [
    "# Project 2, Part 2\n",
    "\n",
    "Ashton Cole\n",
    "\n",
    "AVC687\n",
    "\n",
    "COE 379L: Software Design for Responsive Intelligent Systems\n",
    "\n",
    "## Description\n",
    "\n",
    "We are interested in using a breast cancer patient dataset to build a model which predicts relapsing based on personal and tumor characteristics."
   ]
  },
  {
   "cell_type": "code",
   "execution_count": 1,
   "id": "a301947a-7656-4b7e-8e53-f2322e32e621",
   "metadata": {},
   "outputs": [],
   "source": [
    "import numpy as np\n",
    "import pandas as pd\n",
    "import sklearn as sk\n",
    "from sklearn.ensemble import RandomForestClassifier\n",
    "from sklearn.metrics import accuracy_score, recall_score, precision_score, f1_score, classification_report\n",
    "from sklearn.model_selection import GridSearchCV\n",
    "from sklearn.model_selection import train_test_split\n",
    "from sklearn.naive_bayes import MultinomialNB\n",
    "from sklearn.neighbors import KNeighborsClassifier"
   ]
  },
  {
   "cell_type": "code",
   "execution_count": 2,
   "id": "96b2f1fd-efcb-46ff-887e-1e116f8754a6",
   "metadata": {},
   "outputs": [
    {
     "name": "stdout",
     "output_type": "stream",
     "text": [
      "<class 'pandas.core.frame.DataFrame'>\n",
      "RangeIndex: 262 entries, 0 to 261\n",
      "Data columns (total 15 columns):\n",
      " #   Column                   Non-Null Count  Dtype  \n",
      "---  ------                   --------------  -----  \n",
      " 0   Unnamed: 0               262 non-null    int64  \n",
      " 1   age                      262 non-null    int64  \n",
      " 2   tumor-size               262 non-null    float64\n",
      " 3   inv-nodes                262 non-null    int64  \n",
      " 4   class_recurrence-events  262 non-null    bool   \n",
      " 5   menopause_premeno        262 non-null    bool   \n",
      " 6   node-caps_yes            262 non-null    bool   \n",
      " 7   deg-malig_2              262 non-null    bool   \n",
      " 8   deg-malig_3              262 non-null    bool   \n",
      " 9   breast_right             262 non-null    bool   \n",
      " 10  breast-quad_left_low     262 non-null    bool   \n",
      " 11  breast-quad_left_up      262 non-null    bool   \n",
      " 12  breast-quad_right_low    262 non-null    bool   \n",
      " 13  breast-quad_right_up     262 non-null    bool   \n",
      " 14  irradiat_yes             262 non-null    bool   \n",
      "dtypes: bool(11), float64(1), int64(3)\n",
      "memory usage: 11.1 KB\n"
     ]
    }
   ],
   "source": [
    "bc = pd.read_csv('bc_clean.csv')\n",
    "bc.info()"
   ]
  },
  {
   "cell_type": "code",
   "execution_count": 3,
   "id": "266bc506-91a2-4660-9bf2-78831ae3c802",
   "metadata": {},
   "outputs": [
    {
     "name": "stdout",
     "output_type": "stream",
     "text": [
      "<class 'pandas.core.frame.DataFrame'>\n",
      "RangeIndex: 262 entries, 0 to 261\n",
      "Data columns (total 14 columns):\n",
      " #   Column                   Non-Null Count  Dtype  \n",
      "---  ------                   --------------  -----  \n",
      " 0   age                      262 non-null    int64  \n",
      " 1   tumor-size               262 non-null    float64\n",
      " 2   inv-nodes                262 non-null    int64  \n",
      " 3   class_recurrence-events  262 non-null    bool   \n",
      " 4   menopause_premeno        262 non-null    bool   \n",
      " 5   node-caps_yes            262 non-null    bool   \n",
      " 6   deg-malig_2              262 non-null    bool   \n",
      " 7   deg-malig_3              262 non-null    bool   \n",
      " 8   breast_right             262 non-null    bool   \n",
      " 9   breast-quad_left_low     262 non-null    bool   \n",
      " 10  breast-quad_left_up      262 non-null    bool   \n",
      " 11  breast-quad_right_low    262 non-null    bool   \n",
      " 12  breast-quad_right_up     262 non-null    bool   \n",
      " 13  irradiat_yes             262 non-null    bool   \n",
      "dtypes: bool(11), float64(1), int64(2)\n",
      "memory usage: 9.1 KB\n"
     ]
    }
   ],
   "source": [
    "bc.drop('Unnamed: 0', axis=1, inplace=True)\n",
    "bc.info()"
   ]
  },
  {
   "cell_type": "markdown",
   "id": "ae74f42f-2605-4ea0-949a-c498a907bcdc",
   "metadata": {},
   "source": [
    "## Train-Test Split"
   ]
  },
  {
   "cell_type": "code",
   "execution_count": 4,
   "id": "a238c25f-6c83-4c84-bd28-54c590e12bf7",
   "metadata": {},
   "outputs": [],
   "source": [
    "X = bc.drop('class_recurrence-events', axis=1, inplace=False)\n",
    "y = bc['class_recurrence-events']\n",
    "X_train, X_test, y_train, y_test = train_test_split(X, y, test_size=0.3, random_state=1)"
   ]
  },
  {
   "cell_type": "markdown",
   "id": "aa95081f-7b7d-4db0-b379-721ffee8d896",
   "metadata": {},
   "source": [
    "## K-Nearest Neighbor\n",
    "\n",
    "This model more or less classifies a data point by polling th $k$ closest training data points. We will try to find the best hyperparameter $k$ using k-fold cross-validation."
   ]
  },
  {
   "cell_type": "code",
   "execution_count": 5,
   "id": "ebdda42a-4db3-4dc8-a63a-0d7833d0ade9",
   "metadata": {},
   "outputs": [
    {
     "data": {
      "text/html": [
       "<style>#sk-container-id-1 {color: black;}#sk-container-id-1 pre{padding: 0;}#sk-container-id-1 div.sk-toggleable {background-color: white;}#sk-container-id-1 label.sk-toggleable__label {cursor: pointer;display: block;width: 100%;margin-bottom: 0;padding: 0.3em;box-sizing: border-box;text-align: center;}#sk-container-id-1 label.sk-toggleable__label-arrow:before {content: \"▸\";float: left;margin-right: 0.25em;color: #696969;}#sk-container-id-1 label.sk-toggleable__label-arrow:hover:before {color: black;}#sk-container-id-1 div.sk-estimator:hover label.sk-toggleable__label-arrow:before {color: black;}#sk-container-id-1 div.sk-toggleable__content {max-height: 0;max-width: 0;overflow: hidden;text-align: left;background-color: #f0f8ff;}#sk-container-id-1 div.sk-toggleable__content pre {margin: 0.2em;color: black;border-radius: 0.25em;background-color: #f0f8ff;}#sk-container-id-1 input.sk-toggleable__control:checked~div.sk-toggleable__content {max-height: 200px;max-width: 100%;overflow: auto;}#sk-container-id-1 input.sk-toggleable__control:checked~label.sk-toggleable__label-arrow:before {content: \"▾\";}#sk-container-id-1 div.sk-estimator input.sk-toggleable__control:checked~label.sk-toggleable__label {background-color: #d4ebff;}#sk-container-id-1 div.sk-label input.sk-toggleable__control:checked~label.sk-toggleable__label {background-color: #d4ebff;}#sk-container-id-1 input.sk-hidden--visually {border: 0;clip: rect(1px 1px 1px 1px);clip: rect(1px, 1px, 1px, 1px);height: 1px;margin: -1px;overflow: hidden;padding: 0;position: absolute;width: 1px;}#sk-container-id-1 div.sk-estimator {font-family: monospace;background-color: #f0f8ff;border: 1px dotted black;border-radius: 0.25em;box-sizing: border-box;margin-bottom: 0.5em;}#sk-container-id-1 div.sk-estimator:hover {background-color: #d4ebff;}#sk-container-id-1 div.sk-parallel-item::after {content: \"\";width: 100%;border-bottom: 1px solid gray;flex-grow: 1;}#sk-container-id-1 div.sk-label:hover label.sk-toggleable__label {background-color: #d4ebff;}#sk-container-id-1 div.sk-serial::before {content: \"\";position: absolute;border-left: 1px solid gray;box-sizing: border-box;top: 0;bottom: 0;left: 50%;z-index: 0;}#sk-container-id-1 div.sk-serial {display: flex;flex-direction: column;align-items: center;background-color: white;padding-right: 0.2em;padding-left: 0.2em;position: relative;}#sk-container-id-1 div.sk-item {position: relative;z-index: 1;}#sk-container-id-1 div.sk-parallel {display: flex;align-items: stretch;justify-content: center;background-color: white;position: relative;}#sk-container-id-1 div.sk-item::before, #sk-container-id-1 div.sk-parallel-item::before {content: \"\";position: absolute;border-left: 1px solid gray;box-sizing: border-box;top: 0;bottom: 0;left: 50%;z-index: -1;}#sk-container-id-1 div.sk-parallel-item {display: flex;flex-direction: column;z-index: 1;position: relative;background-color: white;}#sk-container-id-1 div.sk-parallel-item:first-child::after {align-self: flex-end;width: 50%;}#sk-container-id-1 div.sk-parallel-item:last-child::after {align-self: flex-start;width: 50%;}#sk-container-id-1 div.sk-parallel-item:only-child::after {width: 0;}#sk-container-id-1 div.sk-dashed-wrapped {border: 1px dashed gray;margin: 0 0.4em 0.5em 0.4em;box-sizing: border-box;padding-bottom: 0.4em;background-color: white;}#sk-container-id-1 div.sk-label label {font-family: monospace;font-weight: bold;display: inline-block;line-height: 1.2em;}#sk-container-id-1 div.sk-label-container {text-align: center;}#sk-container-id-1 div.sk-container {/* jupyter's `normalize.less` sets `[hidden] { display: none; }` but bootstrap.min.css set `[hidden] { display: none !important; }` so we also need the `!important` here to be able to override the default hidden behavior on the sphinx rendered scikit-learn.org. See: https://github.com/scikit-learn/scikit-learn/issues/21755 */display: inline-block !important;position: relative;}#sk-container-id-1 div.sk-text-repr-fallback {display: none;}</style><div id=\"sk-container-id-1\" class=\"sk-top-container\"><div class=\"sk-text-repr-fallback\"><pre>GridSearchCV(cv=5, estimator=KNeighborsClassifier(),\n",
       "             param_grid={&#x27;n_neighbors&#x27;: array([ 1,  2,  3,  4,  5,  6,  7,  8,  9, 10, 11, 12, 13, 14, 15, 16, 17,\n",
       "       18, 19, 20, 21, 22, 23, 24, 25, 26, 27, 28, 29, 30, 31, 32, 33, 34,\n",
       "       35, 36, 37, 38, 39, 40, 41, 42, 43, 44, 45, 46, 47, 48, 49])})</pre><b>In a Jupyter environment, please rerun this cell to show the HTML representation or trust the notebook. <br />On GitHub, the HTML representation is unable to render, please try loading this page with nbviewer.org.</b></div><div class=\"sk-container\" hidden><div class=\"sk-item sk-dashed-wrapped\"><div class=\"sk-label-container\"><div class=\"sk-label sk-toggleable\"><input class=\"sk-toggleable__control sk-hidden--visually\" id=\"sk-estimator-id-1\" type=\"checkbox\" ><label for=\"sk-estimator-id-1\" class=\"sk-toggleable__label sk-toggleable__label-arrow\">GridSearchCV</label><div class=\"sk-toggleable__content\"><pre>GridSearchCV(cv=5, estimator=KNeighborsClassifier(),\n",
       "             param_grid={&#x27;n_neighbors&#x27;: array([ 1,  2,  3,  4,  5,  6,  7,  8,  9, 10, 11, 12, 13, 14, 15, 16, 17,\n",
       "       18, 19, 20, 21, 22, 23, 24, 25, 26, 27, 28, 29, 30, 31, 32, 33, 34,\n",
       "       35, 36, 37, 38, 39, 40, 41, 42, 43, 44, 45, 46, 47, 48, 49])})</pre></div></div></div><div class=\"sk-parallel\"><div class=\"sk-parallel-item\"><div class=\"sk-item\"><div class=\"sk-label-container\"><div class=\"sk-label sk-toggleable\"><input class=\"sk-toggleable__control sk-hidden--visually\" id=\"sk-estimator-id-2\" type=\"checkbox\" ><label for=\"sk-estimator-id-2\" class=\"sk-toggleable__label sk-toggleable__label-arrow\">estimator: KNeighborsClassifier</label><div class=\"sk-toggleable__content\"><pre>KNeighborsClassifier()</pre></div></div></div><div class=\"sk-serial\"><div class=\"sk-item\"><div class=\"sk-estimator sk-toggleable\"><input class=\"sk-toggleable__control sk-hidden--visually\" id=\"sk-estimator-id-3\" type=\"checkbox\" ><label for=\"sk-estimator-id-3\" class=\"sk-toggleable__label sk-toggleable__label-arrow\">KNeighborsClassifier</label><div class=\"sk-toggleable__content\"><pre>KNeighborsClassifier()</pre></div></div></div></div></div></div></div></div></div></div>"
      ],
      "text/plain": [
       "GridSearchCV(cv=5, estimator=KNeighborsClassifier(),\n",
       "             param_grid={'n_neighbors': array([ 1,  2,  3,  4,  5,  6,  7,  8,  9, 10, 11, 12, 13, 14, 15, 16, 17,\n",
       "       18, 19, 20, 21, 22, 23, 24, 25, 26, 27, 28, 29, 30, 31, 32, 33, 34,\n",
       "       35, 36, 37, 38, 39, 40, 41, 42, 43, 44, 45, 46, 47, 48, 49])})"
      ]
     },
     "execution_count": 5,
     "metadata": {},
     "output_type": "execute_result"
    }
   ],
   "source": [
    "model_knn = KNeighborsClassifier()\n",
    "param_grid_knn = {'n_neighbors': np.arange(1, 50)}\n",
    "gscv_knn = GridSearchCV(model_knn, param_grid_knn, cv=5)\n",
    "gscv_knn.fit(X_train, y_train)"
   ]
  },
  {
   "cell_type": "code",
   "execution_count": 6,
   "id": "2f424177-325f-4c60-a9b7-aef455075688",
   "metadata": {},
   "outputs": [],
   "source": [
    "model_knn = gscv_knn.best_estimator_"
   ]
  },
  {
   "cell_type": "code",
   "execution_count": 7,
   "id": "5cd5de50-85c6-4169-b067-70f9184ada16",
   "metadata": {},
   "outputs": [
    {
     "data": {
      "text/plain": [
       "{'n_neighbors': 7}"
      ]
     },
     "execution_count": 7,
     "metadata": {},
     "output_type": "execute_result"
    }
   ],
   "source": [
    "gscv_knn.best_params_"
   ]
  },
  {
   "cell_type": "markdown",
   "id": "06a4c2e8-c2c3-4f88-9fc2-7fcb0f42422e",
   "metadata": {},
   "source": [
    "## Naive Bayes\n",
    "\n",
    "In this case, specifically the Multinomial Naive Bayes method will be used. This is the model that works best for classifying discrete features, appropriate for a data set of booleans and binned scales. The Gaussian method is not appropriate, because it rests on the asssumption that all input variables are normally distributed. The Bernoulli method, however, would be appropriate if the binned scales were represented with one-hot encoding, since it requires all inputs to be binary."
   ]
  },
  {
   "cell_type": "code",
   "execution_count": 8,
   "id": "99dae8e8-172c-4666-bc1b-151315e4c3fa",
   "metadata": {},
   "outputs": [
    {
     "data": {
      "text/html": [
       "<style>#sk-container-id-2 {color: black;}#sk-container-id-2 pre{padding: 0;}#sk-container-id-2 div.sk-toggleable {background-color: white;}#sk-container-id-2 label.sk-toggleable__label {cursor: pointer;display: block;width: 100%;margin-bottom: 0;padding: 0.3em;box-sizing: border-box;text-align: center;}#sk-container-id-2 label.sk-toggleable__label-arrow:before {content: \"▸\";float: left;margin-right: 0.25em;color: #696969;}#sk-container-id-2 label.sk-toggleable__label-arrow:hover:before {color: black;}#sk-container-id-2 div.sk-estimator:hover label.sk-toggleable__label-arrow:before {color: black;}#sk-container-id-2 div.sk-toggleable__content {max-height: 0;max-width: 0;overflow: hidden;text-align: left;background-color: #f0f8ff;}#sk-container-id-2 div.sk-toggleable__content pre {margin: 0.2em;color: black;border-radius: 0.25em;background-color: #f0f8ff;}#sk-container-id-2 input.sk-toggleable__control:checked~div.sk-toggleable__content {max-height: 200px;max-width: 100%;overflow: auto;}#sk-container-id-2 input.sk-toggleable__control:checked~label.sk-toggleable__label-arrow:before {content: \"▾\";}#sk-container-id-2 div.sk-estimator input.sk-toggleable__control:checked~label.sk-toggleable__label {background-color: #d4ebff;}#sk-container-id-2 div.sk-label input.sk-toggleable__control:checked~label.sk-toggleable__label {background-color: #d4ebff;}#sk-container-id-2 input.sk-hidden--visually {border: 0;clip: rect(1px 1px 1px 1px);clip: rect(1px, 1px, 1px, 1px);height: 1px;margin: -1px;overflow: hidden;padding: 0;position: absolute;width: 1px;}#sk-container-id-2 div.sk-estimator {font-family: monospace;background-color: #f0f8ff;border: 1px dotted black;border-radius: 0.25em;box-sizing: border-box;margin-bottom: 0.5em;}#sk-container-id-2 div.sk-estimator:hover {background-color: #d4ebff;}#sk-container-id-2 div.sk-parallel-item::after {content: \"\";width: 100%;border-bottom: 1px solid gray;flex-grow: 1;}#sk-container-id-2 div.sk-label:hover label.sk-toggleable__label {background-color: #d4ebff;}#sk-container-id-2 div.sk-serial::before {content: \"\";position: absolute;border-left: 1px solid gray;box-sizing: border-box;top: 0;bottom: 0;left: 50%;z-index: 0;}#sk-container-id-2 div.sk-serial {display: flex;flex-direction: column;align-items: center;background-color: white;padding-right: 0.2em;padding-left: 0.2em;position: relative;}#sk-container-id-2 div.sk-item {position: relative;z-index: 1;}#sk-container-id-2 div.sk-parallel {display: flex;align-items: stretch;justify-content: center;background-color: white;position: relative;}#sk-container-id-2 div.sk-item::before, #sk-container-id-2 div.sk-parallel-item::before {content: \"\";position: absolute;border-left: 1px solid gray;box-sizing: border-box;top: 0;bottom: 0;left: 50%;z-index: -1;}#sk-container-id-2 div.sk-parallel-item {display: flex;flex-direction: column;z-index: 1;position: relative;background-color: white;}#sk-container-id-2 div.sk-parallel-item:first-child::after {align-self: flex-end;width: 50%;}#sk-container-id-2 div.sk-parallel-item:last-child::after {align-self: flex-start;width: 50%;}#sk-container-id-2 div.sk-parallel-item:only-child::after {width: 0;}#sk-container-id-2 div.sk-dashed-wrapped {border: 1px dashed gray;margin: 0 0.4em 0.5em 0.4em;box-sizing: border-box;padding-bottom: 0.4em;background-color: white;}#sk-container-id-2 div.sk-label label {font-family: monospace;font-weight: bold;display: inline-block;line-height: 1.2em;}#sk-container-id-2 div.sk-label-container {text-align: center;}#sk-container-id-2 div.sk-container {/* jupyter's `normalize.less` sets `[hidden] { display: none; }` but bootstrap.min.css set `[hidden] { display: none !important; }` so we also need the `!important` here to be able to override the default hidden behavior on the sphinx rendered scikit-learn.org. See: https://github.com/scikit-learn/scikit-learn/issues/21755 */display: inline-block !important;position: relative;}#sk-container-id-2 div.sk-text-repr-fallback {display: none;}</style><div id=\"sk-container-id-2\" class=\"sk-top-container\"><div class=\"sk-text-repr-fallback\"><pre>MultinomialNB()</pre><b>In a Jupyter environment, please rerun this cell to show the HTML representation or trust the notebook. <br />On GitHub, the HTML representation is unable to render, please try loading this page with nbviewer.org.</b></div><div class=\"sk-container\" hidden><div class=\"sk-item\"><div class=\"sk-estimator sk-toggleable\"><input class=\"sk-toggleable__control sk-hidden--visually\" id=\"sk-estimator-id-4\" type=\"checkbox\" checked><label for=\"sk-estimator-id-4\" class=\"sk-toggleable__label sk-toggleable__label-arrow\">MultinomialNB</label><div class=\"sk-toggleable__content\"><pre>MultinomialNB()</pre></div></div></div></div></div>"
      ],
      "text/plain": [
       "MultinomialNB()"
      ]
     },
     "execution_count": 8,
     "metadata": {},
     "output_type": "execute_result"
    }
   ],
   "source": [
    "model_nb = MultinomialNB()\n",
    "model_nb.fit(X_train, y_train)"
   ]
  },
  {
   "cell_type": "markdown",
   "id": "70111adf-f77e-4a80-89c8-947215d4ee74",
   "metadata": {},
   "source": [
    "## Random Forest"
   ]
  },
  {
   "cell_type": "code",
   "execution_count": null,
   "id": "ae3d2a12-8b80-4440-abfd-8e807748473a",
   "metadata": {},
   "outputs": [],
   "source": [
    "model_rf = RandomForestClassifier()\n",
    "param_grid_rf = {\n",
    "    \"n_estimators\": np.arange(start=10, stop=100, step=2),\n",
    "    \"max_depth\": np.arange(start=2, stop=20),\n",
    "    \"min_samples_leaf\": np.arange(start=1, stop=5),\n",
    "    \"class_weight\": [{0: 0.3, 1: 0.7}, {0: 0.5, 1: 0.5}, {0: 0.7, 1: 0.3}],\n",
    "}\n",
    "gscv_rf = GridSearchCV(model_rf, param_grid_rf, cv=5, n_jobs=12, scoring=\"recall\")\n",
    "gscv_rf.fit(X_train, y_train)"
   ]
  },
  {
   "cell_type": "code",
   "execution_count": null,
   "id": "024b68a4-b1d8-4dae-8312-b339ca4a362f",
   "metadata": {},
   "outputs": [],
   "source": [
    "model_rf = gscv_rf.best_estimator_"
   ]
  },
  {
   "cell_type": "code",
   "execution_count": null,
   "id": "16f6d132-bf10-48af-b670-5d248565c696",
   "metadata": {},
   "outputs": [],
   "source": [
    "gscv_rf.best_params_"
   ]
  },
  {
   "cell_type": "markdown",
   "id": "d42be256-f728-4b6c-8fd8-4e2b2684285e",
   "metadata": {},
   "source": [
    "## Performance Metrics\n",
    "\n",
    "In this data set, a false positive would be incorrectly predicting a recurrence event. A false negative would be predicting full remission when a relapse does happen. The latter, false negatives, would be far worse. False positives can be easily eliminated by further examination, while false negatives might grant a false sense of security.\n",
    "\n",
    "### Definitions\n",
    "\n",
    "- accuracy: the proportion of points correctly predicted\n",
    "- recall: the ratio of true positives against true positives and false negatives; as discussed above, this would be a more important metric\n",
    "- precision: the ratio of true positives against true positives and false positives\n",
    "- f1: the harmonic mean of recall and precision"
   ]
  },
  {
   "cell_type": "markdown",
   "id": "e5ee9f23-07eb-4410-8210-4b24a44ece66",
   "metadata": {},
   "source": [
    "### K-Nearest Neighbor"
   ]
  },
  {
   "cell_type": "code",
   "execution_count": null,
   "id": "8e38a556-c461-41a9-bfa8-f4b372fa87ab",
   "metadata": {},
   "outputs": [],
   "source": [
    "y_train_predict_knn = model_knn.predict(X_train)\n",
    "y_test_predict_knn = model_knn.predict(X_test)\n",
    "\n",
    "accuracy_knn_train = accuracy_score(y_train, y_train_predict_knn)\n",
    "accuracy_knn_test = accuracy_score(y_test, y_test_predict_knn)\n",
    "recall_knn_train = recall_score(y_train, y_train_predict_knn)\n",
    "recall_knn_test = recall_score(y_test, y_test_predict_knn)\n",
    "precision_knn_train = precision_score(y_train, y_train_predict_knn)\n",
    "precision_knn_test = precision_score(y_test, y_test_predict_knn)\n",
    "f1_knn_train = f1_score(y_train, y_train_predict_knn)\n",
    "f1_knn_test = f1_score(y_test, y_test_predict_knn)"
   ]
  },
  {
   "cell_type": "code",
   "execution_count": null,
   "id": "15f7b3c3-4b35-4ab5-b7fc-5e0a5f09c79c",
   "metadata": {},
   "outputs": [],
   "source": [
    "[[accuracy_knn_train, accuracy_knn_test],\n",
    " [recall_knn_train, recall_knn_test],\n",
    " [precision_knn_train, precision_knn_test],\n",
    " [f1_knn_train, f1_knn_test]]"
   ]
  },
  {
   "cell_type": "markdown",
   "id": "467e6bcf-f57a-4688-ade7-f57d8c633bfc",
   "metadata": {},
   "source": [
    "### Multinomial Naive Bayes"
   ]
  },
  {
   "cell_type": "code",
   "execution_count": null,
   "id": "6468e970-0e2e-4846-856b-209732552a56",
   "metadata": {},
   "outputs": [],
   "source": [
    "y_train_predict_nb = model_nb.predict(X_train)\n",
    "y_test_predict_nb = model_nb.predict(X_test)\n",
    "\n",
    "accuracy_nb_train = accuracy_score(y_train, y_train_predict_nb)\n",
    "accuracy_nb_test = accuracy_score(y_test, y_test_predict_nb)\n",
    "recall_nb_train = recall_score(y_train, y_train_predict_nb)\n",
    "recall_nb_test = recall_score(y_test, y_test_predict_nb)\n",
    "precision_nb_train = precision_score(y_train, y_train_predict_nb)\n",
    "precision_nb_test = precision_score(y_test, y_test_predict_nb)\n",
    "f1_nb_train = f1_score(y_train, y_train_predict_nb)\n",
    "f1_nb_test = f1_score(y_test, y_test_predict_nb)"
   ]
  },
  {
   "cell_type": "code",
   "execution_count": null,
   "id": "6e29c759-cfff-461a-b023-d802b401b51e",
   "metadata": {},
   "outputs": [],
   "source": [
    "[[accuracy_nb_train, accuracy_nb_test],\n",
    " [recall_nb_train, recall_nb_test],\n",
    " [precision_nb_train, precision_nb_test],\n",
    " [f1_nb_train, f1_nb_test]]"
   ]
  },
  {
   "cell_type": "markdown",
   "id": "66136be1-338f-40a3-a92d-9fb45df02df7",
   "metadata": {},
   "source": [
    "### Random Forest"
   ]
  },
  {
   "cell_type": "code",
   "execution_count": null,
   "id": "81444f3d-9f08-4f1f-b2a2-e521a9b770cc",
   "metadata": {},
   "outputs": [],
   "source": [
    "y_train_predict_rf = model_rf.predict(X_train)\n",
    "y_test_predict_rf = model_rf.predict(X_test)\n",
    "\n",
    "accuracy_rf_train = accuracy_score(y_train, y_train_predict_rf)\n",
    "accuracy_rf_test = accuracy_score(y_test, y_test_predict_rf)\n",
    "recall_rf_train = recall_score(y_train, y_train_predict_rf)\n",
    "recall_rf_test = recall_score(y_test, y_test_predict_rf)\n",
    "precision_rf_train = precision_score(y_train, y_train_predict_rf)\n",
    "precision_rf_test = precision_score(y_test, y_test_predict_rf)\n",
    "f1_rf_train = f1_score(y_train, y_train_predict_rf)\n",
    "f1_rf_test = f1_score(y_test, y_test_predict_rf)"
   ]
  },
  {
   "cell_type": "code",
   "execution_count": null,
   "id": "5cc116f1-9334-451e-99b7-5ec078057e61",
   "metadata": {},
   "outputs": [],
   "source": [
    "[[accuracy_rf_train, accuracy_rf_test],\n",
    " [recall_rf_train, recall_rf_test],\n",
    " [precision_rf_train, precision_rf_test],\n",
    " [f1_rf_train, f1_rf_test]]"
   ]
  }
 ],
 "metadata": {
  "kernelspec": {
   "display_name": "Python 3 (ipykernel)",
   "language": "python",
   "name": "python3"
  },
  "language_info": {
   "codemirror_mode": {
    "name": "ipython",
    "version": 3
   },
   "file_extension": ".py",
   "mimetype": "text/x-python",
   "name": "python",
   "nbconvert_exporter": "python",
   "pygments_lexer": "ipython3",
   "version": "3.11.1"
  }
 },
 "nbformat": 4,
 "nbformat_minor": 5
}
